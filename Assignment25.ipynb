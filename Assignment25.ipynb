{
  "metadata": {
    "kernelspec": {
      "display_name": "Pyolite",
      "language": "python",
      "name": "python"
    },
    "language_info": {
      "codemirror_mode": {
        "name": "python",
        "version": 3
      },
      "file_extension": ".py",
      "mimetype": "text/x-python",
      "name": "python",
      "nbconvert_exporter": "python",
      "pygments_lexer": "ipython3",
      "version": "3.8"
    }
  },
  "nbformat_minor": 5,
  "nbformat": 4,
  "cells": [
    {
      "cell_type": "code",
      "source": "lst = [1, 2, 3, 4]\n\ndef repeat(in_num):\n    global lst\n    lst = lst*in_num\n    return lst\n\ndef add(in_num):\n    global lst\n    lst.append(in_num)\n    return lst\n\ndef remove(start,end):\n    global lst\n    for ele in lst[start:end+1]:\n        lst.remove(ele)\n    return lst\n\ndef concat(in_list):\n    global lst\n    lst = lst+in_list\n    return lst\n\nprint(f'repeat(3) ➞ {repeat(3)}')\nprint(f'add(1) ➞ {add(1)}')\nprint(f'remove(lst, 1, 12) ➞ {remove(1,12)}')\nprint(f'concat([3, 4]) ➞ {concat([3, 4])}')",
      "metadata": {
        "trusted": true
      },
      "execution_count": 155,
      "outputs": [
        {
          "name": "stdout",
          "text": "repeat(3) ➞ [1, 2, 3, 4, 1, 2, 3, 4, 1, 2, 3, 4]\nadd(1) ➞ [1, 2, 3, 4, 1, 2, 3, 4, 1, 2, 3, 4, 1]\nremove(lst, 1, 12) ➞ [1]\nconcat([3, 4]) ➞ [1, 3, 4]\n",
          "output_type": "stream"
        }
      ],
      "id": "b9022402-9ff3-4d67-a230-af8984fe7546"
    },
    {
      "cell_type": "code",
      "source": "def guess_score(code,guess):\n    output = {\"black\":0,\"white\":0}\n    for ele in range(len(code)): \n        if code[ele] == guess[ele]:\n            output['black'] += 1\n        elif code[ele] in guess and ele != guess.index(code[ele]):\n            output['white'] += 1\n    print(f'guess_score{code,guess} ➞ {output}')\n        \nguess_score(\"1423\", \"5678\")\nguess_score(\"1423\", \"2222\")\nguess_score(\"1423\", \"1234\") \nguess_score(\"1423\", \"2211\")",
      "metadata": {
        "trusted": true
      },
      "execution_count": 156,
      "outputs": [
        {
          "name": "stdout",
          "text": "guess_score('1423', '5678') ➞ {'black': 0, 'white': 0}\nguess_score('1423', '2222') ➞ {'black': 1, 'white': 0}\nguess_score('1423', '1234') ➞ {'black': 1, 'white': 3}\nguess_score('1423', '2211') ➞ {'black': 0, 'white': 2}\n",
          "output_type": "stream"
        }
      ],
      "id": "27aef5e3-b743-4fb5-821c-126a394988db"
    },
    {
      "cell_type": "code",
      "source": "def two_product(in_list,in_num):\n    output = None\n    for num_1 in in_list:\n        for num_2 in in_list:\n            if num_1*num_2 == in_num:\n                output = sorted([num_1,num_2])\n                break\n    print(f'two_product({in_list}) ➞ {output}')\n    \ntwo_product([1, 2, -1, 4, 5], 20)\ntwo_product([1, 2, 3, 4, 5], 10)\ntwo_product([100, 12, 4, 1, 2], 15)",
      "metadata": {
        "trusted": true
      },
      "execution_count": 157,
      "outputs": [
        {
          "name": "stdout",
          "text": "two_product([1, 2, -1, 4, 5]) ➞ [4, 5]\ntwo_product([1, 2, 3, 4, 5]) ➞ [2, 5]\ntwo_product([100, 12, 4, 1, 2]) ➞ None\n",
          "output_type": "stream"
        }
      ],
      "id": "1063e84e-62a5-49e3-b8a9-2a732a6440e6"
    }
  ]
}