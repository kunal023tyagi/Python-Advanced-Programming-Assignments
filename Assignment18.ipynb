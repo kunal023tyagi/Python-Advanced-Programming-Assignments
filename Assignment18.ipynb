{
  "metadata": {
    "kernelspec": {
      "display_name": "Pyolite",
      "language": "python",
      "name": "python"
    },
    "language_info": {
      "codemirror_mode": {
        "name": "python",
        "version": 3
      },
      "file_extension": ".py",
      "mimetype": "text/x-python",
      "name": "python",
      "nbconvert_exporter": "python",
      "pygments_lexer": "ipython3",
      "version": "3.8"
    }
  },
  "nbformat_minor": 5,
  "nbformat": 4,
  "cells": [
    {
      "cell_type": "code",
      "source": "def track_robot(in_list):\n    output = [0,0]\n    for ele in in_list:\n        ele = ele.split(\" \")\n        if ele[0] in ['right','left']:\n            output[0] = output[0]-int(ele[1]) if ele[0] == 'left' else output[0]+int(ele[1])\n        else:\n            output[1] = output[1]-int(ele[1]) if ele[0] == 'down' else output[1]+int(ele[1])\n    print(f'track_robot({in_list}) ➞ {output}')\n        \ntrack_robot([\"right 10\", \"up 50\", \"left 30\", \"down 10\"])\ntrack_robot([])\ntrack_robot([\"right 100\", \"right 100\", \"up 500\", \"up 10000\"])",
      "metadata": {
        "trusted": true
      },
      "execution_count": 37,
      "outputs": [
        {
          "name": "stdout",
          "text": "track_robot(['right 10', 'up 50', 'left 30', 'down 10']) ➞ [-20, 40]\ntrack_robot([]) ➞ [0, 0]\ntrack_robot(['right 100', 'right 100', 'up 500', 'up 10000']) ➞ [200, 10500]\n",
          "output_type": "stream"
        }
      ],
      "id": "3094ed6c-989c-48af-8da3-663304c75586"
    },
    {
      "cell_type": "code",
      "source": "def find_longest(in_string):\n    len_list = []\n    for ele in in_string.split(' '):\n        len_list.append(len(ele))\n    print(f'find_longest({in_string}) ➞ {in_string.split(\" \")[len_list.index(max(len_list))].lower()}')\n        \nfind_longest(\"A thing of beauty is a joy forever.\")\nfind_longest(\"Forgetfulness is by all means powerless!\")\nfind_longest(\"\\\"Strengths\\\" is the longest and most commonly used word that contains only a single vowel.\")",
      "metadata": {
        "trusted": true
      },
      "execution_count": 38,
      "outputs": [
        {
          "name": "stdout",
          "text": "find_longest(A thing of beauty is a joy forever.) ➞ forever.\nfind_longest(Forgetfulness is by all means powerless!) ➞ forgetfulness\nfind_longest(\"Strengths\" is the longest and most commonly used word that contains only a single vowel.) ➞ \"strengths\"\n",
          "output_type": "stream"
        }
      ],
      "id": "55652db3-4c0f-4e25-a8a8-026f72fde68c"
    },
    {
      "cell_type": "code",
      "source": "def interview(in_list, in_time):\n    output = 'qualified'\n    if in_time > 120 or max(in_list[0:2]) > 5 or max(in_list[2:4]) > 10 or max(in_list[4:6]) > 15 or max(in_list[6:8]) > 20 or len(in_list) != 8:\n            output = 'disqualified'\n    print(f'interview{in_list,in_time} ➞ {output}')\n    \ninterview([5, 5, 10, 10, 15, 15, 20, 20], 120)\ninterview([2, 3, 8, 6, 5, 12, 10, 18], 64)\ninterview([5, 5, 10, 10, 25, 15, 20, 20], 120)\ninterview([5, 5, 10, 10, 15, 15, 20], 120)\ninterview([5, 5, 10, 10, 15, 15, 20, 20], 130)\n",
      "metadata": {
        "trusted": true
      },
      "execution_count": 39,
      "outputs": [
        {
          "name": "stdout",
          "text": "interview([5, 5, 10, 10, 15, 15, 20, 20], 120) ➞ qualified\ninterview([2, 3, 8, 6, 5, 12, 10, 18], 64) ➞ qualified\ninterview([5, 5, 10, 10, 25, 15, 20, 20], 120) ➞ disqualified\ninterview([5, 5, 10, 10, 15, 15, 20], 120) ➞ disqualified\ninterview([5, 5, 10, 10, 15, 15, 20, 20], 130) ➞ disqualified\n",
          "output_type": "stream"
        }
      ],
      "id": "daf2868a-bc77-4a0e-8663-129178a8ac8a"
    },
    {
      "cell_type": "code",
      "source": "def chunkify(in_list,chunk_size):\n    output = []\n    for i in range(0,len(in_list),chunk_size):\n        output.append(in_list[i:i+chunk_size])\n    print(f'chunkify{in_list, chunk_size} ➞ {output}')\n    \nchunkify([2, 3, 4, 5], 2)   \nchunkify([2, 3, 4, 5, 6], 2)\nchunkify([2, 3, 4, 5, 6, 7], 3)\nchunkify([2, 3, 4, 5, 6, 7], 1)\nchunkify([2, 3, 4, 5, 6, 7], 7)",
      "metadata": {
        "trusted": true
      },
      "execution_count": 40,
      "outputs": [
        {
          "name": "stdout",
          "text": "chunkify([2, 3, 4, 5], 2) ➞ [[2, 3], [4, 5]]\nchunkify([2, 3, 4, 5, 6], 2) ➞ [[2, 3], [4, 5], [6]]\nchunkify([2, 3, 4, 5, 6, 7], 3) ➞ [[2, 3, 4], [5, 6, 7]]\nchunkify([2, 3, 4, 5, 6, 7], 1) ➞ [[2], [3], [4], [5], [6], [7]]\nchunkify([2, 3, 4, 5, 6, 7], 7) ➞ [[2, 3, 4, 5, 6, 7]]\n",
          "output_type": "stream"
        }
      ],
      "id": "710314b8-5530-466f-9582-eee987646f38"
    },
    {
      "cell_type": "code",
      "source": "def get_prices(in_list):\n    out_list = []\n    for ele in in_list:\n        out_list.append(float((ele.split('$')[-1]).split(')')[0]))\n    print(f'get_prices({in_list}) ➞ {out_list}')\n        \nget_prices([\"salad ($4.99)\"])\nget_prices([\"artichokes ($1.99)\",\"rotiserrie chicken ($5.99)\",\"gum ($0.75)\"])\nget_prices([\"ice cream ($5.99)\",\"banana ($0.20)\",\"sandwich ($8.50)\",\"soup ($1.99)\"])",
      "metadata": {
        "trusted": true
      },
      "execution_count": 41,
      "outputs": [
        {
          "name": "stdout",
          "text": "get_prices(['salad ($4.99)']) ➞ [4.99]\nget_prices(['artichokes ($1.99)', 'rotiserrie chicken ($5.99)', 'gum ($0.75)']) ➞ [1.99, 5.99, 0.75]\nget_prices(['ice cream ($5.99)', 'banana ($0.20)', 'sandwich ($8.50)', 'soup ($1.99)']) ➞ [5.99, 0.2, 8.5, 1.99]\n",
          "output_type": "stream"
        }
      ],
      "id": "f0818e9a-6107-4930-9123-3355027d9ac7"
    }
  ]
}