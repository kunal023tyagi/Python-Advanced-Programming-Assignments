{
  "metadata": {
    "kernelspec": {
      "display_name": "Pyolite",
      "language": "python",
      "name": "python"
    },
    "language_info": {
      "codemirror_mode": {
        "name": "python",
        "version": 3
      },
      "file_extension": ".py",
      "mimetype": "text/x-python",
      "name": "python",
      "nbconvert_exporter": "python",
      "pygments_lexer": "ipython3",
      "version": "3.8"
    }
  },
  "nbformat_minor": 5,
  "nbformat": 4,
  "cells": [
    {
      "cell_type": "code",
      "source": "def f(in_num):\n    output = [8,2]\n    print(f'f({in_num})➞ {output[in_num&1]}')\n    \nf(1)\nf(2)\nf(3)",
      "metadata": {
        "trusted": true
      },
      "execution_count": 80,
      "outputs": [
        {
          "name": "stdout",
          "text": "f(1)➞ 2\nf(2)➞ 8\nf(3)➞ 2\n",
          "output_type": "stream"
        }
      ],
      "id": "745aafa3-cfa3-45ab-970f-95c5c0bcf39b"
    },
    {
      "cell_type": "code",
      "source": "def majority_vote(in_list):\n    out_list = None\n    for ele in set(in_list):\n        if in_list.count(ele) > (len(in_list)/2):\n            out_list = ele\n    print(f'majority_vote({in_list}) ➞ {out_list}')\n    \nmajority_vote([\"A\", \"A\", \"B\"])\nmajority_vote([\"A\", \"A\", \"A\", \"B\", \"C\", \"A\"])\nmajority_vote([\"A\", \"B\", \"B\", \"A\", \"C\", \"C\"])\n",
      "metadata": {
        "trusted": true
      },
      "execution_count": 81,
      "outputs": [
        {
          "name": "stdout",
          "text": "majority_vote(['A', 'A', 'B']) ➞ A\nmajority_vote(['A', 'A', 'A', 'B', 'C', 'A']) ➞ A\nmajority_vote(['A', 'B', 'B', 'A', 'C', 'C']) ➞ None\n",
          "output_type": "stream"
        }
      ],
      "id": "8b825ff8-4c96-4984-a3ab-04952a31622a"
    },
    {
      "cell_type": "code",
      "source": "",
      "metadata": {},
      "execution_count": null,
      "outputs": [],
      "id": "a867da9e-ea5b-42c9-85f2-0a3262f1a199"
    },
    {
      "cell_type": "code",
      "source": "def censor_string(in_string_1, in_string_2, rep_char):\n    out_string = []\n    for ele in in_string_1.split():\n        if ele.title() in in_string_2 or ele.lower() in in_string_2 or ele.upper() in in_string_2:\n            out_string.append(rep_char*len(ele))\n        else:\n            out_string.append(ele)\n    print(f'censor_string({in_string_1}) ➞ {\" \".join(out_string)}')\n\ncensor_string(\"Today is a Wednesday!\", [\"Today\", \"a\"], \"-\")\ncensor_string(\"The cow jumped over the moon.\", [\"cow\", \"over\"], \"*\")\ncensor_string(\"Why did the chicken cross the road ?\", [\"Did\", \"chicken\", \"road\"], \"*\")",
      "metadata": {
        "trusted": true
      },
      "execution_count": 82,
      "outputs": [
        {
          "name": "stdout",
          "text": "censor_string(Today is a Wednesday!) ➞ ----- is - Wednesday!\ncensor_string(The cow jumped over the moon.) ➞ The *** jumped **** the moon.\ncensor_string(Why did the chicken cross the road ?) ➞ Why *** the ******* cross the **** ?\n",
          "output_type": "stream"
        }
      ],
      "id": "97149dd7-9475-4d5e-a86d-645c85177f12"
    },
    {
      "cell_type": "code",
      "source": "",
      "metadata": {},
      "execution_count": null,
      "outputs": [],
      "id": "a371dd0c-29d3-4cb8-9760-3df52145ad4a"
    },
    {
      "cell_type": "code",
      "source": "def is_polydivisible(in_num):\n    output = False\n    in_num_temp = str(in_num)\n    for ele in range(len(in_num_temp)):\n        if(int(in_num_temp[:ele+1])%(ele+1) == 0):\n            output = True\n        else:\n            output = False\n            break\n    print(f'is_polydivisible({in_num}) ➞ {output}')\n        \nis_polydivisible(1232)\nis_polydivisible(123220)",
      "metadata": {
        "trusted": true
      },
      "execution_count": 83,
      "outputs": [
        {
          "name": "stdout",
          "text": "is_polydivisible(1232) ➞ True\nis_polydivisible(123220) ➞ False\n",
          "output_type": "stream"
        }
      ],
      "id": "574ed8a2-cc3c-4d18-ac92-f8c9a8fd326b"
    },
    {
      "cell_type": "code",
      "source": "def sum_primes(in_list):\n    out_string = []\n    for ele in in_list:\n        if ele in [2,3]:\n            out_string.append(ele)\n        elif ele in [6*n-1 for n in range(0,ele)] or ele in [6*n+1 for n in range(0,ele)]:\n            out_string.append(ele)\n    if 1 in out_string:\n        out_string.remove(1)\n    print(f'sum_prices({in_list}) ➞ {sum(out_string) if len(out_string) > 0 else None}')\n        \nsum_primes([1, 2, 3, 4, 5, 6, 7, 8, 9, 10])\nsum_primes([2, 3, 4, 11, 20, 50, 71])\nsum_primes([])",
      "metadata": {
        "trusted": true
      },
      "execution_count": 84,
      "outputs": [
        {
          "name": "stdout",
          "text": "sum_prices([1, 2, 3, 4, 5, 6, 7, 8, 9, 10]) ➞ 17\nsum_prices([2, 3, 4, 11, 20, 50, 71]) ➞ 87\nsum_prices([]) ➞ None\n",
          "output_type": "stream"
        }
      ],
      "id": "565500ce-5d91-45c5-9590-33b78838d14b"
    }
  ]
}