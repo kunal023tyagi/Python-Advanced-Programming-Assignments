{
  "metadata": {
    "kernelspec": {
      "display_name": "Pyolite",
      "language": "python",
      "name": "python"
    },
    "language_info": {
      "codemirror_mode": {
        "name": "python",
        "version": 3
      },
      "file_extension": ".py",
      "mimetype": "text/x-python",
      "name": "python",
      "nbconvert_exporter": "python",
      "pygments_lexer": "ipython3",
      "version": "3.8"
    }
  },
  "nbformat_minor": 5,
  "nbformat": 4,
  "cells": [
    {
      "cell_type": "code",
      "source": "def checker_board(grid_size,in_one,in_two):\n    if in_one != in_two:\n        input = [in_one,in_two]\n        output = []\n        for ele_1 in range(grid_size):\n            output.append([])\n            for ele_2 in range(grid_size):\n                output[ele_1].append(input[(ele_1+ele_2)%2])\n    else:\n        output = 'Invalid'\n    print(f'checker_board{grid_size,in_one,in_two} ➞ {output}')\n    \nchecker_board(2, 7, 6)\nchecker_board(3, \"A\", \"B\")\nchecker_board(4, \"c\", \"d\")\nchecker_board(4, \"c\", \"c\") ",
      "metadata": {
        "trusted": true
      },
      "execution_count": 135,
      "outputs": [
        {
          "name": "stdout",
          "text": "checker_board(2, 7, 6) ➞ [[7, 6], [6, 7]]\nchecker_board(3, 'A', 'B') ➞ [['A', 'B', 'A'], ['B', 'A', 'B'], ['A', 'B', 'A']]\nchecker_board(4, 'c', 'd') ➞ [['c', 'd', 'c', 'd'], ['d', 'c', 'd', 'c'], ['c', 'd', 'c', 'd'], ['d', 'c', 'd', 'c']]\nchecker_board(4, 'c', 'c') ➞ Invalid\n",
          "output_type": "stream"
        }
      ],
      "id": "c26deee8-dd85-4d92-a0da-1919f100dfae"
    },
    {
      "cell_type": "code",
      "source": "def almost_palindrome(in_string):\n    in_string_rev = in_string[::-1]\n    count = 0\n    for ele in range(len(in_string)):\n        if in_string[ele] != in_string_rev[ele]:\n            count +=1\n    output = True if count == 2 else False\n    print(f'almost_palindrome({in_string}) ➞ {output}')\n    \nalmost_palindrome(\"abcdcbg\")\nalmost_palindrome(\"abccia\")\nalmost_palindrome(\"abcdaaa\")\nalmost_palindrome(\"1234312\")",
      "metadata": {
        "trusted": true
      },
      "execution_count": 136,
      "outputs": [
        {
          "name": "stdout",
          "text": "almost_palindrome(abcdcbg) ➞ True\nalmost_palindrome(abccia) ➞ True\nalmost_palindrome(abcdaaa) ➞ False\nalmost_palindrome(1234312) ➞ False\n",
          "output_type": "stream"
        }
      ],
      "id": "5554cb75-f99f-4284-9bbe-4e3ceea9fdab"
    },
    {
      "cell_type": "code",
      "source": "def prime_numbers(in_num):\n    out_num = 0\n    out_list = [2,3]\n    for ele in range(1,in_num+1):\n        if ele <= 3 and ele > 0:\n            out_num = 2 if ele==3 else 1 if ele ==2 else 0\n        elif ele > 3 and (((ele-1)%6 == 0) or ((ele+1)%6 == 0)):\n            out_num +=1\n            out_list.append(ele)    \n    for top in out_list:\n        for bottom in out_list:\n            if top != bottom:\n                if top%bottom == 0:\n                    out_num -= 1\n    print(f'prime_numbers({in_num}) ➞ {out_num}')\n        \nprime_numbers(10)     \nprime_numbers(20)\nprime_numbers(30)",
      "metadata": {
        "trusted": true
      },
      "execution_count": 137,
      "outputs": [
        {
          "name": "stdout",
          "text": "prime_numbers(10) ➞ 4\nprime_numbers(20) ➞ 8\nprime_numbers(30) ➞ 10\n",
          "output_type": "stream"
        }
      ],
      "id": "b43a0d11-9329-4843-968c-5d7946a9a3d2"
    },
    {
      "cell_type": "code",
      "source": "def after_n_days(in_list,in_num):\n    week_dict = {0:'Sunday',1:'Monday',2:'Tuesday',3:'Wednesday',4:'Thursday',5:'Friday',6:'Saturday'}\n    week_days_no = list(week_dict.keys())\n    week_days_name = list(week_dict.values())\n    output = []\n    for ele in in_list:\n        output.append(week_dict[(week_days_name.index(ele)+in_num)%7])\n    print(f'after_n_days{in_list,in_num} ➞ {output}')\n    \nafter_n_days([\"Thursday\", \"Monday\"], 4)\nafter_n_days([\"Sunday\", \"Sunday\", \"Sunday\"], 1)\nafter_n_days([\"Monday\", \"Tuesday\", \"Friday\"], 1)",
      "metadata": {
        "trusted": true
      },
      "execution_count": 138,
      "outputs": [
        {
          "name": "stdout",
          "text": "after_n_days(['Thursday', 'Monday'], 4) ➞ ['Monday', 'Friday']\nafter_n_days(['Sunday', 'Sunday', 'Sunday'], 1) ➞ ['Monday', 'Monday', 'Monday']\nafter_n_days(['Monday', 'Tuesday', 'Friday'], 1) ➞ ['Tuesday', 'Wednesday', 'Saturday']\n",
          "output_type": "stream"
        }
      ],
      "id": "22078b40-7e0f-4a15-8922-d2a272a87a91"
    },
    {
      "cell_type": "code",
      "source": "def is_correct_aliases(in_list_one, in_list_two):\n    output = False\n    if len(in_list_one) == len(in_list_two):\n        for ele in range(len(in_list_one)):\n            if in_list_one[ele].split(\" \")[0][0] == in_list_two[ele].split(\" \")[0][0] == in_list_two[ele].split(\" \")[1][0]:\n                output = True\n            else:\n                output = False\n                break\n    print(f'is_correct_aliases{in_list_one,in_list_two}➞{output}')\n\nis_correct_aliases([\"Beth T.\"],[\"Brandishing Mimosa\"])\nis_correct_aliases([\"Adrian M.\",\"Harriet S.\",\"Mandy T.\"], [\"Amazing Artichoke\", \"Hopeful Hedgehog\", \"Marvelous Mouse\"])\nis_correct_aliases([\"Rachel F.\",\"Pam G.\",\"Fred Z.\",\"Nancy K.\"], [\"Reassuring Rat\", \"Peaceful Panda\", \"Fantastic Frog\", \"Notable Nickel\"])",
      "metadata": {
        "trusted": true
      },
      "execution_count": 139,
      "outputs": [
        {
          "name": "stdout",
          "text": "is_correct_aliases(['Beth T.'], ['Brandishing Mimosa'])➞False\nis_correct_aliases(['Adrian M.', 'Harriet S.', 'Mandy T.'], ['Amazing Artichoke', 'Hopeful Hedgehog', 'Marvelous Mouse'])➞True\nis_correct_aliases(['Rachel F.', 'Pam G.', 'Fred Z.', 'Nancy K.'], ['Reassuring Rat', 'Peaceful Panda', 'Fantastic Frog', 'Notable Nickel'])➞True\n",
          "output_type": "stream"
        }
      ],
      "id": "8d946ab3-5923-4ee2-987a-e3ff67167f64"
    }
  ]
}