{
  "metadata": {
    "kernelspec": {
      "display_name": "Pyolite",
      "language": "python",
      "name": "python"
    },
    "language_info": {
      "codemirror_mode": {
        "name": "python",
        "version": 3
      },
      "file_extension": ".py",
      "mimetype": "text/x-python",
      "name": "python",
      "nbconvert_exporter": "python",
      "pygments_lexer": "ipython3",
      "version": "3.8"
    }
  },
  "nbformat_minor": 5,
  "nbformat": 4,
  "cells": [
    {
      "cell_type": "code",
      "source": "def check_score(in_list):\n    check_dict = {'#':5,'O':3,'X':1,'!':-1,'!!':-3,'!!!':-5}\n    out_num = 0\n    for ele in in_list:\n        for sub_ele in ele:\n            out_num += check_dict[sub_ele]\n    if(out_num < 0):\n        print(f'check_score({in_list}) ➞ {0}')\n    else:\n        print(f'check_score({in_list}) ➞ {out_num}')\n        \ncheck_score([[\"#\", \"!\"],[\"!!\", \"X\"]])\ncheck_score([[\"!!!\", \"O\", \"!\"],[\"X\", \"#\", \"!!!\"],[\"!!\", \"X\", \"O\"]])",
      "metadata": {
        "trusted": true
      },
      "execution_count": 60,
      "outputs": [
        {
          "name": "stdout",
          "text": "check_score([['#', '!'], ['!!', 'X']]) ➞ 2\ncheck_score([['!!!', 'O', '!'], ['X', '#', '!!!'], ['!!', 'X', 'O']]) ➞ 0\n",
          "output_type": "stream"
        }
      ],
      "id": "f200f014-f7f9-4300-a061-dfef8bb6d3a0"
    },
    {
      "cell_type": "code",
      "source": "def encode_morse(in_string):\n    out_string = ''\n    char_to_dots = {\n            'A': '.-', 'B': '-...', 'C': '-.-.', 'D': '-..', 'E': '.', 'F': '..-.',\n            'G': '--.', 'H': '....', 'I': '..', 'J': '.---', 'K': '-.-', 'L': '.-..',\n            'M': '--', 'N': '-.', 'O': '---', 'P': '.--.', 'Q': '--.-', 'R': '.-.',\n            'S': '...', 'T': '-', 'U': '..-', 'V': '...-', 'W': '.--', 'X': '-..-',\n            'Y': '-.--', 'Z': '--..', ' ': ' ', '0': '-----',\n            '1': '.----', '2': '..---', '3': '...--', '4': '....-', '5': '.....',\n            '6': '-....', '7': '--...', '8': '---..', '9': '----.',\n            '&': '.-...', \"'\": '.----.', '@': '.--.-.', ')': '-.--.-', '(': '-.--.',\n            ':': '---...', ',': '--..--', '=': '-...-', '!': '-.-.--', '.': '.-.-.-',\n            '-': '-....-', '+': '.-.-.', '\"': '.-..-.', '?': '..--..', '/': '-..-.'\n        }\n    for ele in in_string:\n        out_string +=char_to_dots[ele]\n    print(f'encode_morse({in_string}) ➞ {out_string}')\n\nencode_morse(\"EDABBIT CHALLENGE\")\nencode_morse(\"HELP ME !\")\n",
      "metadata": {
        "trusted": true
      },
      "execution_count": 61,
      "outputs": [
        {
          "name": "stdout",
          "text": "encode_morse(EDABBIT CHALLENGE) ➞ .-...--...-.....- -.-......-.-...-...-.--..\nencode_morse(HELP ME !) ➞ ......-...--. --. -.-.--\n",
          "output_type": "stream"
        }
      ],
      "id": "b506b5cd-c6b1-49f0-8464-8f70c9d57f0d"
    },
    {
      "cell_type": "code",
      "source": "def combinations(*args):\n    out_num = 1\n    for ele in args:\n        out_num *=ele\n    print(f'combinations{args} ➞ {out_num}')\n\ncombinations(2, 3)\ncombinations(3, 7, 4)\ncombinations(2, 3, 4, 5)",
      "metadata": {
        "trusted": true
      },
      "execution_count": 62,
      "outputs": [
        {
          "name": "stdout",
          "text": "combinations(2, 3) ➞ 6\ncombinations(3, 7, 4) ➞ 84\ncombinations(2, 3, 4, 5) ➞ 120\n",
          "output_type": "stream"
        }
      ],
      "id": "54bedec9-cbb4-439a-a947-aac032fd146a"
    },
    {
      "cell_type": "code",
      "source": "def prime(in_num):\n    out_bool = False\n    if ((in_num-1)%6 == 0) or ((in_num+1)%6 == 0):\n        out_bool = True\n    print(f'prime({in_num}) ➞ {out_bool}')\n\nprime(7)\nprime(56963)\nprime(5151512515524)",
      "metadata": {
        "trusted": true
      },
      "execution_count": 63,
      "outputs": [
        {
          "name": "stdout",
          "text": "prime(7) ➞ True\nprime(56963) ➞ True\nprime(5151512515524) ➞ False\n",
          "output_type": "stream"
        }
      ],
      "id": "c77ed466-7873-41a1-aa7e-3f5b0031c318"
    },
    {
      "cell_type": "code",
      "source": "def to_boolean_list(in_string):\n    alphabets = 'abcdefghijklmnopqrstuvwxyz'\n    out_list = []\n    for ele in in_string:\n        out_list.append(bool((alphabets.index(ele)+1)%2))\n    print(f'to_boolean_list({in_string}) ➞ {out_list}')\n    \nto_boolean_list(\"deep\")\nto_boolean_list(\"loves\")\nto_boolean_list(\"tesh\")",
      "metadata": {
        "trusted": true
      },
      "execution_count": 64,
      "outputs": [
        {
          "name": "stdout",
          "text": "to_boolean_list(deep) ➞ [False, True, True, False]\nto_boolean_list(loves) ➞ [False, True, False, True, True]\nto_boolean_list(tesh) ➞ [False, True, True, False]\n",
          "output_type": "stream"
        }
      ],
      "id": "b2417210-fd0b-47c1-9382-4501493c28e2"
    }
  ]
}