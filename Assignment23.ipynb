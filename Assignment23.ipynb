{
  "metadata": {
    "kernelspec": {
      "display_name": "Pyolite",
      "language": "python",
      "name": "python"
    },
    "language_info": {
      "codemirror_mode": {
        "name": "python",
        "version": 3
      },
      "file_extension": ".py",
      "mimetype": "text/x-python",
      "name": "python",
      "nbconvert_exporter": "python",
      "pygments_lexer": "ipython3",
      "version": "3.8"
    }
  },
  "nbformat_minor": 5,
  "nbformat": 4,
  "cells": [
    {
      "cell_type": "code",
      "source": "class Sudoku:\n    def __init__(self,in_string):\n        self.board = []\n        for ele in range(0,len(in_string),9):\n            self.board.append([int(string) for string in in_string[ele:ele+9]])\n            \n    def get_row(self,row):\n        return self.board[row]\n    \n    def get_col(self,column):\n        output = []\n        for ele in self.board:\n            output.append(ele[column])\n        return output\n    \n    def get_sqr(self,row,column=None):\n        output = []\n        square_to_cell = {\n            0 : [[0,1,2],[0,1,2]],\n            1 : [[0,1,2],[3,4,5]],\n            2 : [[0,1,2],[6,7,8]],\n            3 : [[3,4,5],[0,1,2]],\n            4 : [[3,4,5],[3,4,5]],\n            5 : [[3,4,5],[6,7,8]],\n            6 : [[6,7,8],[0,1,2]],\n            7 : [[6,7,8],[3,4,5]],\n            8 : [[6,7,8],[6,7,8]]\n        }\n        \n        if column == None:\n            for i in square_to_cell[row][0]:\n                for j in square_to_cell[row][1]:\n                    output.append(self.board[i][j])\n        else:\n            square = None\n            if row <= 2:\n                square = 0 if column <=2 else 1 if column <=5 else 2\n            elif row <= 5:\n                square = 3 if column <=2 else 4 if column <=5 else 5\n            else:\n                square = 6 if column <=2 else 7 if column <=5 else 8\n            for i in square_to_cell[square][0]:\n                for j in square_to_cell[square][1]:\n                    output.append(self.board[i][j])\n        return (output)\n                            \ngame = Sudoku(\"417950030000000700060007000050009106800600000000003400900005000000430000200701580\")\ndisplay(game.board)\nprint(f'game.get_row(0) ➞ {game.get_row(0)}')\nprint(f'game.get_col(8) ➞ {game.get_col(8)}')\nprint(f'game.get_sqr(1) ➞ {game.get_sqr(1)}')\nprint(f'game.get_sqr(1,8) ➞ {game.get_sqr(1,8)}')\nprint(f'game.get_sqr(8,3) ➞ {game.get_sqr(8,3)}')",
      "metadata": {
        "trusted": true
      },
      "execution_count": 148,
      "outputs": [
        {
          "output_type": "display_data",
          "data": {
            "text/plain": "[[4, 1, 7, 9, 5, 0, 0, 3, 0],\n [0, 0, 0, 0, 0, 0, 7, 0, 0],\n [0, 6, 0, 0, 0, 7, 0, 0, 0],\n [0, 5, 0, 0, 0, 9, 1, 0, 6],\n [8, 0, 0, 6, 0, 0, 0, 0, 0],\n [0, 0, 0, 0, 0, 3, 4, 0, 0],\n [9, 0, 0, 0, 0, 5, 0, 0, 0],\n [0, 0, 0, 4, 3, 0, 0, 0, 0],\n [2, 0, 0, 7, 0, 1, 5, 8, 0]]"
          },
          "metadata": {}
        },
        {
          "name": "stdout",
          "text": "game.get_row(0) ➞ [4, 1, 7, 9, 5, 0, 0, 3, 0]\ngame.get_col(8) ➞ [0, 0, 0, 6, 0, 0, 0, 0, 0]\ngame.get_sqr(1) ➞ [9, 5, 0, 0, 0, 0, 0, 0, 7]\ngame.get_sqr(1,8) ➞ [0, 3, 0, 7, 0, 0, 0, 0, 0]\ngame.get_sqr(8,3) ➞ [0, 0, 5, 4, 3, 0, 7, 0, 1]\n",
          "output_type": "stream"
        }
      ],
      "id": "3ba0e87e-3693-4e47-b11b-f395a99c3de3"
    },
    {
      "cell_type": "code",
      "source": "class ListNode:\n    def __init__(self, val=0, next=None):\n        self.val = val\n        self.next = next\n        self.num_list = []\n        self.num_list.append(val)       \n    def add_data(self,in_list):\n        self.num_list.extend(in_list)\n    def get_data(self):\n        return self.num_list\n    \nclass add_two_numbers:\n    def __init__(self,ob1,ob2):\n        self.ob1 = ob1\n        self.ob2 = ob2  \n    def get_data(self):\n        it1 = ''.join([str(ele) for ele in self.ob1.get_data()[::-1]])\n        it2 = ''.join([str(ele) for ele in self.ob2.get_data()[::-1]])\n        return [int(x) for x in str(int(it1)+int(it2))[::-1]]   \n    \nlt1 = ListNode(2)\nlt1.add_data([4, 3])\n\nlt2 = ListNode(5)\nlt2.add_data([6, 4])\n\nprint(f'lt1.get_data() ➞ {lt1.get_data()}') \nprint(f'lt2.get_data() ➞ {lt2.get_data()}') \nprint(f'add_two_numbers(lt1, lt2).get_data() ➞ {add_two_numbers(lt1, lt2).get_data()}',end='\\n\\n')\n\nlt1 = ListNode(0)\nlt2 = ListNode(0)\n\nprint(f'lt1.get_data() ➞ {lt1.get_data()}') \nprint(f'lt2.get_data() ➞ {lt2.get_data()}') \nprint(f'add_two_numbers(lt1, lt2).get_data() ➞ {add_two_numbers(lt1, lt2).get_data()}',end='\\n\\n')\n\nlt1 = ListNode(9)\nlt1.add_data([9,9,9,9,9,9])\n\nlt2 = ListNode(9)\nlt2.add_data([9,9,9])\n\nprint(f'lt1.get_data() ➞ {lt1.get_data()}') \nprint(f'lt2.get_data() ➞ {lt2.get_data()}') \nprint(f'add_two_numbers(lt1, lt2).get_data() ➞ {add_two_numbers(lt1, lt2).get_data()}')",
      "metadata": {
        "trusted": true
      },
      "execution_count": 149,
      "outputs": [
        {
          "name": "stdout",
          "text": "lt1.get_data() ➞ [2, 4, 3]\nlt2.get_data() ➞ [5, 6, 4]\nadd_two_numbers(lt1, lt2).get_data() ➞ [7, 0, 8]\n\nlt1.get_data() ➞ [0]\nlt2.get_data() ➞ [0]\nadd_two_numbers(lt1, lt2).get_data() ➞ [0]\n\nlt1.get_data() ➞ [9, 9, 9, 9, 9, 9, 9]\nlt2.get_data() ➞ [9, 9, 9, 9]\nadd_two_numbers(lt1, lt2).get_data() ➞ [8, 9, 9, 9, 0, 0, 0, 1]\n",
          "output_type": "stream"
        }
      ],
      "id": "84cdbbf4-e4bc-4433-b1ce-b860306faf3a"
    },
    {
      "cell_type": "code",
      "source": "Menu = [\n    {'name':'Orange Juice','type':'drink','price':25.50},\n    {'name':'Lemonade','type':'drink','price':10},\n    {'name':'Cranberry Juice','type':'drink','price':40},\n    {'name':'Pineapple Juice','type':'drink','price':40},\n    {'name':'Lemon Iced Tea','type':'drink','price':80},\n    {'name':'Vanilla Chai Latte','type':'drink','price':90},\n    {'name':'Hot Choclate','type':'drink','price':100},\n    {'name':'Iced Cofee','type':'drink','price':70.12},\n    {'name':'Tuna Sandwich','type':'food','price':120},\n    {'name':'Ham Cheese Sandwich','type':'food','price':180},\n    {'name':'Bacon And Egg','type':'food','price': 120},\n    {'name':'Chicken Biryani','type':'food','price':360},\n    {'name':'Veg Burger','type':'food','price':90},\n    {'name':'Cinnamon Roll','type':'food','price':60.25}\n]\n\nclass Cofeeshop:\n    def __init__(self,name,menu,orders):\n        self.name = name\n        self.menu = menu\n        self.orders = orders\n    \n    def add_order(self, order_name):\n        available_items = [item['name'].lower() for item in self.menu]\n        if order_name in available_items:\n            output = \"Order added!\"\n            self.orders.append(order_name)\n        else:\n            output = \"This item is currently unavailable!\"\n        return output\n    \n    def list_orders(self):\n        return self.orders\n    \n    def due_amount(self):\n        output = sum([item['price'] for item in self.menu if item['name'].lower() in self.orders])\n        return output\n    \n    def fulfill_order(self):\n        if len(self.orders) > 0:\n            output = f'The {self.orders.pop(0)} is ready!'\n        else:\n            output = 'All orders have been fulfilled!'\n        return output\n        \n    def cheapest_item(self):\n        lowest_price = min([item['price'] for item in self.menu])\n        output = [item['name'] for item in self.menu if item['price'] == lowest_price]\n        return output[0]\n        \n    def drinks_only(self):\n        output = [item['name'] for item in self.menu if item['type'] == 'drink']\n        return output\n    \n    def food_only(self):\n        output = [item['name'] for item in self.menu if item['type'] == 'food']\n        return output\n    \ntcs = Cofeeshop('Tesha\\'s Cofee Shop',Menu,[])\nprint(f'tcs.add_order(\"hot cocoa\") ➞ {tcs.add_order(\"hot cocoa\")}')\nprint(f'tcs.add_order(\"iced tea\") ➞ {tcs.add_order(\"iced tea\")}')\nprint(f'tcs.add_order(\"cinnamon roll\") ➞ {tcs.add_order(\"cinnamon roll\")}')\nprint(f'tcs.add_order(\"iced cofee\") ➞ {tcs.add_order(\"iced cofee\")}')\nprint(f'tcs.list_orders() ➞ {tcs.list_orders()}')\nprint(f'tcs.due_amount() ➞ {tcs.due_amount()}')\nprint(f'tcs.fulfill_order() ➞ {tcs.fulfill_order()}')\nprint(f'tcs.fulfill_order() ➞ {tcs.fulfill_order()}')\nprint(f'tcs.fulfill_order() ➞ {tcs.fulfill_order()}')\nprint(f'tcs.list_orders() ➞ {tcs.list_orders()}')\nprint(f'tcs.due_amount() ➞ {tcs.due_amount()}')\nprint(f'tcs.cheapest_item() ➞ {tcs.cheapest_item()}')\nprint(f'tcs.food_only() ➞ {tcs.food_only()}')",
      "metadata": {
        "trusted": true
      },
      "execution_count": 150,
      "outputs": [
        {
          "name": "stdout",
          "text": "tcs.add_order(\"hot cocoa\") ➞ This item is currently unavailable!\ntcs.add_order(\"iced tea\") ➞ This item is currently unavailable!\ntcs.add_order(\"cinnamon roll\") ➞ Order added!\ntcs.add_order(\"iced cofee\") ➞ Order added!\ntcs.list_orders() ➞ ['cinnamon roll', 'iced cofee']\ntcs.due_amount() ➞ 130.37\ntcs.fulfill_order() ➞ The cinnamon roll is ready!\ntcs.fulfill_order() ➞ The iced cofee is ready!\ntcs.fulfill_order() ➞ All orders have been fulfilled!\ntcs.list_orders() ➞ []\ntcs.due_amount() ➞ 0\ntcs.cheapest_item() ➞ Lemonade\ntcs.food_only() ➞ ['Tuna Sandwich', 'Ham Cheese Sandwich', 'Bacon And Egg', 'Chicken Biryani', 'Veg Burger', 'Cinnamon Roll']\n",
          "output_type": "stream"
        }
      ],
      "id": "604a3613-a8d9-49ea-9a01-6994ef2a9cfb"
    }
  ]
}