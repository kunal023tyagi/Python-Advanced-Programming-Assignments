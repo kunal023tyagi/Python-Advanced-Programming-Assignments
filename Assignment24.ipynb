{
  "metadata": {
    "kernelspec": {
      "display_name": "Pyolite",
      "language": "python",
      "name": "python"
    },
    "language_info": {
      "codemirror_mode": {
        "name": "python",
        "version": 3
      },
      "file_extension": ".py",
      "mimetype": "text/x-python",
      "name": "python",
      "nbconvert_exporter": "python",
      "pygments_lexer": "ipython3",
      "version": "3.8"
    }
  },
  "nbformat_minor": 5,
  "nbformat": 4,
  "cells": [
    {
      "cell_type": "code",
      "source": "class NestedIterator:\n    def __init__(self,in_list):\n        self.list = in_list\n        self.flatten_list = []\n        self.test(self.list)\n    \n    def test(self,in_list):\n        for ele in in_list:\n            if isinstance(ele,int):\n                self.flatten_list.append(ele)\n            else:\n                self.test(ele)\n                \n    def hasNext(self):\n        return True if len(self.flatten_list) > 0 else False\n    \n    def next(self):\n        return self.flatten_list.pop(0)\n    \nni, actual = NestedIterator([[1, 1], 2, [1, 1]]), []\nwhile ni.hasNext():\n    actual.append(ni.next())\nprint(f'actual ➞ {actual}')\n\nni, actual = NestedIterator([1, [4, [6]]]), []\nwhile ni.hasNext():\n    actual.append(ni.next())\nprint(f'actual ➞ {actual}')\n\nni, actual = NestedIterator([[[]], []]), []\nwhile ni.hasNext():\n    actual.append(ni.next())\nprint(f'actual ➞ {actual}')",
      "metadata": {
        "trusted": true
      },
      "execution_count": 151,
      "outputs": [
        {
          "name": "stdout",
          "text": "actual ➞ [1, 1, 2, 1, 1]\nactual ➞ [1, 4, 6]\nactual ➞ []\n",
          "output_type": "stream"
        }
      ],
      "id": "a2526306-3253-429a-bb00-7c4ccf4583ec"
    },
    {
      "cell_type": "code",
      "source": "def tic_tac_toe(in_list):\n    output = None  \n    # Case 1 to search for horizontal match\n    for ele in in_list:\n        if len(list(set(ele))) == 1:\n            output = list(set(ele))[0]\n            break\n    # Case 2 to search for vertical match   \n    if output == None:\n        for i in range(len(in_list)):\n            temp = []\n            for j in range(len(in_list)): temp.append(in_list[j][i])\n            if len(list(set(temp))) == 1: output = list(set(temp))[0]\n    # Case 3 to search for diagonal match\n    if output == None:\n        temp = []\n        for ele in [0,1,2]:\n            temp.append(in_list[ele][ele])\n        if len(list(set(temp))) == 1: output = list(set(temp))[0]\n    # Case 4 to search for reverse diagonal match\n    if output == None:\n        temp = []\n        for i in [0,1,2]:\n            for j in [0,1,2]:\n                if sum([i,j]) == 2: temp.append(in_list[i][j])\n        if len(list(set(temp))) == 1: output = list(set(temp))[0]\n    # Case 5 Draw Condition\n    if output == None: output = 'Draw'\n    print(f'tic_tac_toe({in_list}) ➞ \"{output}\"')\n            \ntic_tac_toe([[\"X\", \"O\", \"X\"],[\"O\", \"X\", \"O\"],[\"O\", \"X\", \"X\"]])\ntic_tac_toe([[\"O\", \"O\", \"O\"],[\"O\",\"X\", \"X\"],[\"E\", \"X\", \"X\"]])\ntic_tac_toe([[\"X\", \"X\", \"O\"],[\"O\", \"O\", \"X\"],[\"X\", \"X\", \"O\"]])\ntic_tac_toe([[\"X\", \"X\", \"O\"],[\"X\", \"O\", \"X\"],[\"X\", \"O\", \"O\"]])\ntic_tac_toe([[\"O\", \"O\", \"X\"],[\"O\", \"X\", \"O\"],[\"X\", \"O\", \"O\"]])",
      "metadata": {
        "trusted": true
      },
      "execution_count": 152,
      "outputs": [
        {
          "name": "stdout",
          "text": "tic_tac_toe([['X', 'O', 'X'], ['O', 'X', 'O'], ['O', 'X', 'X']]) ➞ \"X\"\ntic_tac_toe([['O', 'O', 'O'], ['O', 'X', 'X'], ['E', 'X', 'X']]) ➞ \"O\"\ntic_tac_toe([['X', 'X', 'O'], ['O', 'O', 'X'], ['X', 'X', 'O']]) ➞ \"Draw\"\ntic_tac_toe([['X', 'X', 'O'], ['X', 'O', 'X'], ['X', 'O', 'O']]) ➞ \"X\"\ntic_tac_toe([['O', 'O', 'X'], ['O', 'X', 'O'], ['X', 'O', 'O']]) ➞ \"X\"\n",
          "output_type": "stream"
        }
      ],
      "id": "637fd1ae-d782-4168-a0da-d2026bfafc9c"
    },
    {
      "cell_type": "code",
      "source": "",
      "metadata": {},
      "execution_count": null,
      "outputs": [],
      "id": "34cb866b-add7-49ac-8754-894753e4f26b"
    },
    {
      "cell_type": "code",
      "source": "import re\ndef remove_virus(in_string):\n    in_list = [x.strip() for x in re.split(\", \",in_string)]\n    output = []\n    for ele in in_list:\n        if ele not in ['virus.exe','dangerousvirus.exe','lethalmalware.exe']:\n            output.append(ele)\n    print(f'remove_virus({in_string}) ➞ \"{\", \".join(output)}\"')\n    \nremove_virus(\"PC Files: spotifysetup.exe, virus.exe, dog.jpg\")\nremove_virus(\"PC Files: antivirus.exe, cat.pdf, lethalmalware.exe, dangerousvirus.exe \")\nremove_virus(\"PC Files: notvirus.exe, funnycat.gif\")",
      "metadata": {
        "trusted": true
      },
      "execution_count": 153,
      "outputs": [
        {
          "name": "stdout",
          "text": "remove_virus(PC Files: spotifysetup.exe, virus.exe, dog.jpg) ➞ \"PC Files: spotifysetup.exe, dog.jpg\"\nremove_virus(PC Files: antivirus.exe, cat.pdf, lethalmalware.exe, dangerousvirus.exe ) ➞ \"PC Files: antivirus.exe, cat.pdf\"\nremove_virus(PC Files: notvirus.exe, funnycat.gif) ➞ \"PC Files: notvirus.exe, funnycat.gif\"\n",
          "output_type": "stream"
        }
      ],
      "id": "ce24fab8-2966-44e2-a7d1-4ef27ffc730a"
    },
    {
      "cell_type": "code",
      "source": "def will_hit(in_eq,in_loc):\n    in_eq_list = in_eq.split(\" \")\n    temp_list = []\n    for ele in in_eq_list:\n        if 'x' in ele or 'y'in ele:\n            if len(ele) == 1:\n                temp_list.append(ele.replace('x',str(in_loc[0]))) if 'x' in ele else temp_list.append(ele.replace('y',str(in_loc[1])))\n            else:\n                temp_list.append(ele.replace('x',f'*{in_loc[0]}')) if 'x' in ele else temp_list.append(ele.replace('y',f'*{in_loc[1]}'))\n        else:\n            temp_list.append(\"==\") if ele == \"=\" else temp_list.append(ele)\n    print(f'will_hit{in_eq,in_loc} ➞ {eval(\" \".join(temp_list))}')\n\nwill_hit(\"y = 2x - 5\", (0, 0))\nwill_hit(\"y = -4x + 6\", (1, 2))\nwill_hit(\"y = 2x + 6\", (3, 2))",
      "metadata": {
        "trusted": true
      },
      "execution_count": 154,
      "outputs": [
        {
          "name": "stdout",
          "text": "will_hit('y = 2x - 5', (0, 0)) ➞ False\nwill_hit('y = -4x + 6', (1, 2)) ➞ True\nwill_hit('y = 2x + 6', (3, 2)) ➞ False\n",
          "output_type": "stream"
        }
      ],
      "id": "1dda1f01-0e18-46ad-b6f7-f04fb5082a4f"
    }
  ]
}