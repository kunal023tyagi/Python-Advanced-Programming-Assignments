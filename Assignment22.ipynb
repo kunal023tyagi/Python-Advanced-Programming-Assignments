{
  "metadata": {
    "kernelspec": {
      "display_name": "Pyolite",
      "language": "python",
      "name": "python"
    },
    "language_info": {
      "codemirror_mode": {
        "name": "python",
        "version": 3
      },
      "file_extension": ".py",
      "mimetype": "text/x-python",
      "name": "python",
      "nbconvert_exporter": "python",
      "pygments_lexer": "ipython3",
      "version": "3.8"
    }
  },
  "nbformat_minor": 5,
  "nbformat": 4,
  "cells": [
    {
      "cell_type": "code",
      "source": "import re\nclass Smoothie:\n    ingredients_price = {\n        'Strawberries':1.50,\n        'Banana':0.50,\n        'Mango':2.50,\n        'Blueberries':1.00,\n        'Raspberries':1.00,\n        'Apple':1.75,\n        'Pineapple':3.50\n    }\n    def __init__(self,ingredients):\n        self.ingredients = ingredients\n        self.cost = 0\n    def get_cost(self):\n        for ele in self.ingredients:\n            if ele in Smoothie.ingredients_price:\n                self.cost += round(Smoothie.ingredients_price.get(ele,0),2)\n        return '$'+str(self.cost)\n    def get_price(self):\n        self.price = round((self.cost*1.5)+(self.cost),2)\n        return '$'+str(self.price)\n    def get_name(self):\n        self.name = re.sub('berries','berry',' '.join(sorted(self.ingredients)))\n        self.name = self.name+' Smoothie' if len(self.ingredients) == 1 else self.name+' Fusion'\n        return self.name\n\ns1 = Smoothie([\"Banana\"])\nprint(f's1.ingredients ➞ {s1.ingredients}')\nprint(f's1.get_cost() ➞ \"{s1.get_cost()}\"')\nprint(f's1.get_price() ➞ \"{s1.get_price()}\"')\nprint(f's1.get_name() ➞ \"{s1.get_name()}\"')\n\ns2 = Smoothie([\"Raspberries\", \"Strawberries\", \"Blueberries\"])\nprint(f's2.ingredients ➞ {s2.ingredients}')\nprint(f's2.get_cost() ➞ \"{s2.get_cost()}\"')\nprint(f's2.get_price() ➞ \"{s2.get_price()}\"')\nprint(f's2.get_name() ➞ \"{s2.get_name()}\"')",
      "metadata": {
        "trusted": true
      },
      "execution_count": 42,
      "outputs": [
        {
          "name": "stdout",
          "text": "s1.ingredients ➞ ['Banana']\ns1.get_cost() ➞ \"$0.5\"\ns1.get_price() ➞ \"$1.25\"\ns1.get_name() ➞ \"Banana Smoothie\"\ns2.ingredients ➞ ['Raspberries', 'Strawberries', 'Blueberries']\ns2.get_cost() ➞ \"$3.5\"\ns2.get_price() ➞ \"$8.75\"\ns2.get_name() ➞ \"Blueberry Raspberry Strawberry Fusion\"\n",
          "output_type": "stream"
        }
      ],
      "id": "24969a1e-ad5b-4f8b-873f-073cca0cc297"
    },
    {
      "cell_type": "code",
      "source": "class Testpaper:\n    def __init__(self,subject,markscheme,pass_mark):\n        self.subject = subject\n        self.markscheme = markscheme\n        self.pass_mark = pass_mark\n        \nclass Student:\n    def __init__(self):\n        self.tests_taken = \"No tests taken\"\n    def take_test(self,paper_name,student_response):\n        correct_responses = 0\n        for ele in range(len(paper_name.markscheme)):\n            if paper_name.markscheme[ele] == student_response[ele]:\n                correct_responses +=1\n        ach_pass_mark = int(correct_responses/len(paper_name.markscheme)*100)\n        needed_pass_mark = int(paper_name.pass_mark.split(\"%\")[0])\n        if self.tests_taken == 'No tests taken':\n            self.tests_taken = {}\n        if ach_pass_mark >= needed_pass_mark:\n            self.tests_taken[paper_name.subject] = f\"Passed! ({str(ach_pass_mark)}%)\"\n        else:\n            self.tests_taken[paper_name.subject] = f'Failed! ({str(ach_pass_mark)}%)'\n        \npaper1 = Testpaper(\"Maths\", [\"1A\", \"2C\", \"3D\", \"4A\", \"5A\"], \"60%\")  \npaper2 = Testpaper(\"Chemistry\", [\"1C\", \"2C\", \"3D\", \"4A\"], \"75%\")  \npaper3 = Testpaper(\"Computing\", [\"1D\", \"2C\", \"3C\", \"4B\", \"5D\", \"6C\", \"7A\"], \"75%\")       \n\nstudent1 = Student()   \nstudent2 = Student()\n\nprint(f'student1.tests_taken ➞ \"{student1.tests_taken}\"')\nstudent1.take_test(paper1, [\"1A\", \"2D\", \"3D\", \"4A\", \"5A\"])\nprint(f'student1.tests_taken ➞ {student1.tests_taken}')\n\nstudent2.take_test(paper2, [\"1C\", \"2D\", \"3A\", \"4C\"])\nstudent2.take_test(paper3, [\"1A\", \"2C\", \"3A\", \"4C\", \"5D\", \"6C\", \"7B\"])\nprint(f'student2.tests_taken ➞ {student2.tests_taken}')",
      "metadata": {
        "trusted": true
      },
      "execution_count": 43,
      "outputs": [
        {
          "name": "stdout",
          "text": "student1.tests_taken ➞ \"No tests taken\"\nstudent1.tests_taken ➞ {'Maths': 'Passed! (80%)'}\nstudent2.tests_taken ➞ {'Chemistry': 'Failed! (25%)', 'Computing': 'Failed! (42%)'}\n",
          "output_type": "stream"
        }
      ],
      "id": "04914dd7-c3a0-4e68-ab68-473a97656815"
    },
    {
      "cell_type": "code",
      "source": "class Train:\n    def __init__(self,destination_list,expected_time):\n        self.destination_list = destination_list\n        self.expected_time = expected_time\n\ndef manage_delays(train_obj,destination_point,delay):\n    if destination_point in train_obj.destination_list:\n        ex_time = train_obj.expected_time.split(\":\")\n        new_ex_time = str((int(ex_time[0])*60+int(ex_time[1])+int(delay))//60)+':'+str((int(ex_time[0])*60+int(ex_time[1])+int(delay))%60)\n        train_obj.expected_time = new_ex_time\n\ntrains = [\n  Train([\"Townsville\", \"Suburbia\", \"Urbantska\"], \"13:04\"),\n  Train([\"Farmsdale\", \"Suburbia\", \"Lakeside Valley\"], \"13:20\"),\n  Train([\"Suburbia\", \"Townsville\", \"Lakeside Valley\"], \"13:22\")\n]\n\nfor t in trains:\n    manage_delays(t, \"Lakeside Valley\", 60)\n        \nprint(f'trains[0].expected_time ➞ \"{trains[0].expected_time}\"')    \nprint(f'trains[1].expected_time ➞ \"{trains[1].expected_time}\"')    \nprint(f'trains[2].expected_time ➞ \"{trains[2].expected_time}\"')   ",
      "metadata": {
        "trusted": true
      },
      "execution_count": 44,
      "outputs": [
        {
          "name": "stdout",
          "text": "trains[0].expected_time ➞ \"13:04\"\ntrains[1].expected_time ➞ \"14:20\"\ntrains[2].expected_time ➞ \"14:22\"\n",
          "output_type": "stream"
        }
      ],
      "id": "97b6bba6-5304-4e18-8ab1-065f56b11c29"
    },
    {
      "cell_type": "code",
      "source": "class minecraft:\n    def __init__(self,tracks):\n        self.tracks = tracks\n        \ndef mine_run(tracks):\n    mine_vel = 0  \n    output = 0\n    for ele in range(len(tracks)):\n        if tracks[ele] == '-->':\n            if mine_vel+2.67 >= 8: mine_vel = 8 # resetted to max mine_val\n            else: mine_vel +=2.67\n        elif tracks[ele] == '<-->': continue\n        elif tracks[ele] == '<--':\n            if mine_vel-2.67 <= 0: output = True if ele == len(tracks)-1 else ele; break\n            else: mine_vel -=2.67\n        else:\n            if mine_vel-1 <= 0: output = True if ele == len(tracks)-1 else ele; break\n            else: mine_vel -=1        \n    return output\n\nmine_track_1 = minecraft([\"-->\", \"-->\", \"-->\", \"<--\", \"<--\", \"<--\"])\nprint(f'mine_run({mine_track_1.tracks}) ➞ {mine_run(mine_track_1.tracks)}')\nmine_track_2 = minecraft([\"-->\", \"<--\", \"-->\", \"-->\", \"<-->\", \"---\"])\nprint(f'mine_run({mine_track_2.tracks}) ➞ {mine_run(mine_track_2.tracks)}')",
      "metadata": {
        "trusted": true
      },
      "execution_count": 45,
      "outputs": [
        {
          "name": "stdout",
          "text": "mine_run(['-->', '-->', '-->', '<--', '<--', '<--']) ➞ True\nmine_run(['-->', '<--', '-->', '-->', '<-->', '---']) ➞ 1\n",
          "output_type": "stream"
        }
      ],
      "id": "b14b8b9a-8452-4d85-aeef-0a4a12c828c7"
    },
    {
      "cell_type": "code",
      "source": "def intersecting(rectangle1, rectangle2):\n    output = False\n    if (rectangle2.y-rectangle1.y == rectangle1.height) or (rectangle2.y-rectangle1.y + rectangle1.height == rectangle2.height):\n        output = True\n    print(f'intersecting{rectangle1.__dict__.values(),rectangle2.__dict__.values()} ➞ {output}')\n\nclass Rectangle:\n    def __init__(self, x, y, width, height):\n        self.x = x\n        self.y = y\n        self.width = width\n        self.height = height\n\na = Rectangle(10, 20, 100, 20)\nb = Rectangle(10, 40, 15, 20)\nc = Rectangle(50, 50, 20, 30)\nintersecting(a, b)\nintersecting(a, c)\nintersecting(b, c)",
      "metadata": {
        "trusted": true
      },
      "execution_count": 46,
      "outputs": [
        {
          "name": "stdout",
          "text": "intersecting(dict_values([10, 20, 100, 20]), dict_values([10, 40, 15, 20])) ➞ True\nintersecting(dict_values([10, 20, 100, 20]), dict_values([50, 50, 20, 30])) ➞ False\nintersecting(dict_values([10, 40, 15, 20]), dict_values([50, 50, 20, 30])) ➞ True\n",
          "output_type": "stream"
        }
      ],
      "id": "95902174-777f-4135-871e-726c0cce56c5"
    }
  ]
}