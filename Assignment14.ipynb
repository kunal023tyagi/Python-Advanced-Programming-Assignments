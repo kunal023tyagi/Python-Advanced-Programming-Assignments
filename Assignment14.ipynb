{
  "metadata": {
    "kernelspec": {
      "display_name": "Pyolite",
      "language": "python",
      "name": "python"
    },
    "language_info": {
      "codemirror_mode": {
        "name": "python",
        "version": 3
      },
      "file_extension": ".py",
      "mimetype": "text/x-python",
      "name": "python",
      "nbconvert_exporter": "python",
      "pygments_lexer": "ipython3",
      "version": "3.8"
    }
  },
  "nbformat_minor": 5,
  "nbformat": 4,
  "cells": [
    {
      "cell_type": "code",
      "source": "def show_the_love(in_list):\n    out_list = in_list.copy()\n    sum_num = 0\n    for ele in range(len(out_list)):\n        if out_list[ele] is not min(out_list):\n            sum_num += out_list[ele]/4\n            out_list[ele] =  out_list[ele]-(out_list[ele]/4)\n    out_list[out_list.index(min(out_list))] = sum_num +min(out_list)\n    print(f'show_the_love({in_list}) ➞ {out_list}')\n            \nshow_the_love([4, 1, 4])\nshow_the_love([16, 10, 8])\nshow_the_love([2, 100])",
      "metadata": {
        "trusted": true
      },
      "execution_count": 115,
      "outputs": [
        {
          "name": "stdout",
          "text": "show_the_love([4, 1, 4]) ➞ [3.0, 3.0, 3.0]\nshow_the_love([16, 10, 8]) ➞ [12.0, 7.5, 14.5]\nshow_the_love([2, 100]) ➞ [27.0, 75.0]\n",
          "output_type": "stream"
        }
      ],
      "id": "21393aa5-e917-4350-b8aa-04647385c6fc"
    },
    {
      "cell_type": "code",
      "source": "def letters(s_one,s_two):\n    s_one_set = set(s_one)\n    s_two_set = set(s_two)\n    out_list = []\n    out_list.append(''.join(sorted(s_one_set.intersection(s_two_set))))\n    out_list.append(''.join(sorted(s_one_set.difference(s_two_set))))\n    out_list.append(''.join(sorted(s_two_set.difference(s_one_set)))) \n    print(f'letters{s_one,s_two} ➞ {out_list}')\n    \nletters(\"sharp\", \"soap\")\nletters(\"board\", \"bored\")\nletters(\"happiness\", \"envelope\")\nletters(\"kerfuffle\", \"fluffy\")\nletters(\"match\", \"ham\")",
      "metadata": {
        "trusted": true
      },
      "execution_count": 116,
      "outputs": [
        {
          "name": "stdout",
          "text": "letters('sharp', 'soap') ➞ ['aps', 'hr', 'o']\nletters('board', 'bored') ➞ ['bdor', 'a', 'e']\nletters('happiness', 'envelope') ➞ ['enp', 'ahis', 'lov']\nletters('kerfuffle', 'fluffy') ➞ ['flu', 'ekr', 'y']\nletters('match', 'ham') ➞ ['ahm', 'ct', '']\n",
          "output_type": "stream"
        }
      ],
      "id": "3b16f262-c27c-43dd-b79c-b76c8a75598b"
    },
    {
      "cell_type": "code",
      "source": "def pairs(in_list):\n    in_list_clone = in_list.copy()\n    output = []\n    while True:\n        if len(in_list) > 0:\n            if len(in_list) == 1:\n                output.append([in_list[0],in_list.pop(0)])\n            else:\n                output.append([in_list.pop(0),in_list.pop(-1)])\n        else:\n            break\n    print(f'pairs({in_list_clone}) ➞ {output}')\n            \npairs([1, 2, 3, 4, 5, 6, 7])\npairs([1, 2, 3, 4, 5, 6])\npairs([5, 9, 8, 1, 2])\npairs([])",
      "metadata": {
        "trusted": true
      },
      "execution_count": 117,
      "outputs": [
        {
          "name": "stdout",
          "text": "pairs([1, 2, 3, 4, 5, 6, 7]) ➞ [[1, 7], [2, 6], [3, 5], [4, 4]]\npairs([1, 2, 3, 4, 5, 6]) ➞ [[1, 6], [2, 5], [3, 4]]\npairs([5, 9, 8, 1, 2]) ➞ [[5, 2], [9, 1], [8, 8]]\npairs([]) ➞ []\n",
          "output_type": "stream"
        }
      ],
      "id": "aa34a64a-3e48-4577-a5b8-1355d72dfd42"
    },
    {
      "cell_type": "code",
      "source": "def add_str_nums(in_one,in_two):\n    in_one = in_one if len(in_one) > 0 else \"0\"\n    in_two = in_two if len(in_two) > 0 else \"0\"\n    if in_one.isdigit() == False or in_two.isdigit() == False:\n        output = -1\n    else: \n        output = int(in_one)+int(in_two)\n    print(f'add_str_nums{in_one,in_two} ➞ {str(output)}')\n        \nadd_str_nums(\"4\", \"5\")\nadd_str_nums(\"abcdefg\", \"3\")\nadd_str_nums(\"1\", \"\")\nadd_str_nums(\"1874682736267235927359283579235789257\", \"32652983572985729\")",
      "metadata": {
        "trusted": true
      },
      "execution_count": 118,
      "outputs": [
        {
          "name": "stdout",
          "text": "add_str_nums('4', '5') ➞ 9\nadd_str_nums('abcdefg', '3') ➞ -1\nadd_str_nums('1', '0') ➞ 1\nadd_str_nums('1874682736267235927359283579235789257', '32652983572985729') ➞ 1874682736267235927391936562808774986\n",
          "output_type": "stream"
        }
      ],
      "id": "ab795dff-6290-4b32-8466-a8c8e2592a30"
    },
    {
      "cell_type": "code",
      "source": "def unmix(in_string):\n    output = ''\n    for ele in range(0,len(in_string)-1,2):\n        output += in_string[ele+1]+in_string[ele]\n        if (len(in_string)%2 != 0 and ele == len(in_string)//2 ):\n            output += in_string[-1]       \n    print(f'unmix({in_string}) ➞ {output}')\n\nunmix(\"123456\")\nunmix(\"hTsii  s aimex dpus rtni.g\")\nunmix(\"badce\")",
      "metadata": {
        "trusted": true
      },
      "execution_count": 119,
      "outputs": [
        {
          "name": "stdout",
          "text": "unmix(123456) ➞ 214365\nunmix(hTsii  s aimex dpus rtni.g) ➞ This is a mixed up string.\nunmix(badce) ➞ abcde\n",
          "output_type": "stream"
        }
      ],
      "id": "c82ed979-adaf-4b51-bfc3-3c5bb17cede2"
    }
  ]
}