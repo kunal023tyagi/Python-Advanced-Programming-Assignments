{
  "metadata": {
    "kernelspec": {
      "display_name": "Pyolite",
      "language": "python",
      "name": "python"
    },
    "language_info": {
      "codemirror_mode": {
        "name": "python",
        "version": 3
      },
      "file_extension": ".py",
      "mimetype": "text/x-python",
      "name": "python",
      "nbconvert_exporter": "python",
      "pygments_lexer": "ipython3",
      "version": "3.8"
    }
  },
  "nbformat_minor": 5,
  "nbformat": 4,
  "cells": [
    {
      "cell_type": "code",
      "source": "def count_same_ends(in_string):\n    special_chars = '!@#$%^&*.'\n    cleaned_string = ''\n    out_num = 0\n    for ele in in_string:\n        if ele not in special_chars:\n            cleaned_string += ele\n    for ele in cleaned_string.split(\" \"):\n        if ele[0].lower() == ele[-1].lower():\n            if len(ele) != 1:\n                out_num +=1\n    print(f'count_same_ends({in_string}) ➞ {out_num}')\n            \ncount_same_ends(\"Pop! goes the balloon\")\ncount_same_ends(\"And the crowd goes wild!\")\ncount_same_ends(\"No I am not in a gang.\")",
      "metadata": {
        "trusted": true
      },
      "execution_count": 145,
      "outputs": [
        {
          "name": "stdout",
          "text": "count_same_ends(Pop! goes the balloon) ➞ 1\ncount_same_ends(And the crowd goes wild!) ➞ 0\ncount_same_ends(No I am not in a gang.) ➞ 1\n",
          "output_type": "stream"
        }
      ],
      "id": "99105804-5041-46ae-a747-9e56ebe86c07"
    },
    {
      "cell_type": "code",
      "source": "def atbash(in_string):\n    alpha = 'abcdefghijklmnopqrstuvwxyz'\n    r_alpha = 'zyxwvutsrqponmlkjihgfedcba'\n    out_string = ''\n    for ele in in_string:\n        if ele not in \" !1234567890\":\n            out_string += r_alpha[alpha.index(ele.lower())].upper() if ele.isupper() else r_alpha[alpha.index(ele.lower())]\n        else:\n            out_string += ele\n    print(f'atbash({in_string}) ➞ {out_string}')\n        \natbash(\"apple\")\natbash(\"Hello world!\")\natbash(\"Christmas is the 25th of December\")",
      "metadata": {
        "trusted": true
      },
      "execution_count": 146,
      "outputs": [
        {
          "name": "stdout",
          "text": "atbash(apple) ➞ zkkov\natbash(Hello world!) ➞ Svool dliow!\natbash(Christmas is the 25th of December) ➞ Xsirhgnzh rh gsv 25gs lu Wvxvnyvi\n",
          "output_type": "stream"
        }
      ],
      "id": "7e5edba6-a6cc-4121-a063-f22c730760ab"
    },
    {
      "cell_type": "code",
      "source": "class Employee:\n    def __init__(self,name=None,salary=None,height=None,nationality=None):\n        self.name = name\n        self.firstname = name.split(\" \")[0]\n        self.lastname = name.split(\" \")[1]\n        self.salary = salary\n        self.height = height\n        self.nationality = nationality\n        \njohn = Employee(\"John Doe\")    \nmary = Employee(\"Mary Major\",salary=120000)\nrichard = Employee(\"Richard Roe\", salary=110000, height=178)\ngiancarlo = Employee(\"Giancarlo Rossi\", salary=115000, height=182, nationality=\"Italian\")\n\nprint(f'john.name ➞ \"{john.name}\"')\nprint(f'mary.lastname ➞ \"{mary.lastname}\"')\nprint(f'richard.height ➞ {richard.height}')\nprint(f'giancarlo.nationality ➞ \"{giancarlo.nationality}\"')\n",
      "metadata": {
        "trusted": true
      },
      "execution_count": 147,
      "outputs": [
        {
          "name": "stdout",
          "text": "john.name ➞ \"John Doe\"\nmary.lastname ➞ \"Major\"\nrichard.height ➞ 178\ngiancarlo.nationality ➞ \"Italian\"\n",
          "output_type": "stream"
        }
      ],
      "id": "25ae564e-7878-43d4-b49f-4d519c9ff984"
    }
  ]
}