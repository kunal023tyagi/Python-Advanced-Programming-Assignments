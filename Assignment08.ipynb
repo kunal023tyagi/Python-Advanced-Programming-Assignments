{
  "metadata": {
    "kernelspec": {
      "display_name": "Pyolite",
      "language": "python",
      "name": "python"
    },
    "language_info": {
      "codemirror_mode": {
        "name": "python",
        "version": 3
      },
      "file_extension": ".py",
      "mimetype": "text/x-python",
      "name": "python",
      "nbconvert_exporter": "python",
      "pygments_lexer": "ipython3",
      "version": "3.8"
    }
  },
  "nbformat_minor": 5,
  "nbformat": 4,
  "cells": [
    {
      "cell_type": "code",
      "source": "def vowel_links(in_string):\n    in_list = in_string.split(\" \")\n    vowel_list = ['a','e','i','o','u']\n    end,start,output = False, False,False\n    for ele in range(len(in_list)):\n        temp = True if in_list[ele][-1] in vowel_list else False\n        start = True if in_list[ele][0] in vowel_list else False\n        if start == end == True:\n            output=True\n            break\n        end=temp\n    print(f'vowel_links({in_string}) ➞ {output}')\n                \nvowel_links(\"a very large appliance\")\nvowel_links(\"go to edabit\")\nvowel_links(\"an open fire\")\nvowel_links(\"a sudden applause\")",
      "metadata": {
        "trusted": true
      },
      "execution_count": 27,
      "outputs": [
        {
          "name": "stdout",
          "text": "vowel_links(a very large appliance) ➞ True\nvowel_links(go to edabit) ➞ True\nvowel_links(an open fire) ➞ False\nvowel_links(a sudden applause) ➞ False\n",
          "output_type": "stream"
        }
      ],
      "id": "26b1ea50-e1a3-4d76-bf06-a0b171bbac9f"
    },
    {
      "cell_type": "code",
      "source": "# Approach 1 Using index() and() rindex() functions\ndef first_before_second_index(in_string,in_first,in_second):\n    last_occur_first = in_string.rindex(in_first)\n    first_occur_second = in_string.index(in_second)\n    output = True if last_occur_first < first_occur_second else False\n    print(f'first_before_second_index({in_string}, {in_first}, {in_second}) ➞ {output}')\n\n# Approach 2 Using find() and() rfind() functions\ndef first_before_second_find(in_string,in_first,in_second):\n    last_occur_first = in_string.rfind(in_first)\n    first_occur_second = in_string.find(in_second)\n    output = True if last_occur_first < first_occur_second else False\n    print(f'first_before_second_find({in_string}, {in_first}, {in_second}) ➞ {output}')\n\nfirst_before_second_index(\"a rabbit jumps joyfully\", \"a\", \"j\")\nfirst_before_second_index(\"knaves knew about waterfalls\", \"k\", \"w\")\nfirst_before_second_index(\"happy birthday\", \"a\", \"y\")\nfirst_before_second_index(\"precarious kangaroos\", \"k\", \"a\")\nprint()\nfirst_before_second_find(\"a rabbit jumps joyfully\", \"a\", \"j\")\nfirst_before_second_find(\"knaves knew about waterfalls\", \"k\", \"w\")\nfirst_before_second_find(\"happy birthday\", \"a\", \"y\")\nfirst_before_second_find(\"precarious kangaroos\", \"k\", \"a\")",
      "metadata": {
        "trusted": true
      },
      "execution_count": 28,
      "outputs": [
        {
          "name": "stdout",
          "text": "first_before_second_index(a rabbit jumps joyfully, a, j) ➞ True\nfirst_before_second_index(knaves knew about waterfalls, k, w) ➞ True\nfirst_before_second_index(happy birthday, a, y) ➞ False\nfirst_before_second_index(precarious kangaroos, k, a) ➞ False\n\nfirst_before_second_find(a rabbit jumps joyfully, a, j) ➞ True\nfirst_before_second_find(knaves knew about waterfalls, k, w) ➞ True\nfirst_before_second_find(happy birthday, a, y) ➞ False\nfirst_before_second_find(precarious kangaroos, k, a) ➞ False\n",
          "output_type": "stream"
        }
      ],
      "id": "5636e368-c646-437b-acb6-463c63ec65b5"
    },
    {
      "cell_type": "code",
      "source": "def char_at_pos(in_list,mode):\n    out_list = []\n    for ele in range(len(in_list)):\n        if mode == 'even' and (ele+1)%2 == 0:\n            out_list.append(in_list[ele])\n        elif mode == 'odd' and (ele+1)%2 != 0:\n            out_list.append(in_list[ele])            \n    print(f'char_at_pos{in_list,mode} ➞ {out_list}')\n        \n        \nchar_at_pos([2, 4, 6, 8, 10], \"even\")\nchar_at_pos(\"EDABIT\", \"odd\")\nchar_at_pos([\"A\", \"R\", \"B\", \"I\", \"T\", \"R\", \"A\", \"R\", \"I\", \"L\", \"Y\"], \"odd\")",
      "metadata": {
        "trusted": true
      },
      "execution_count": 29,
      "outputs": [
        {
          "name": "stdout",
          "text": "char_at_pos([2, 4, 6, 8, 10], 'even') ➞ [4, 8]\nchar_at_pos('EDABIT', 'odd') ➞ ['E', 'A', 'I']\nchar_at_pos(['A', 'R', 'B', 'I', 'T', 'R', 'A', 'R', 'I', 'L', 'Y'], 'odd') ➞ ['A', 'B', 'T', 'A', 'I', 'Y']\n",
          "output_type": "stream"
        }
      ],
      "id": "c900b600-2dd5-43f5-a0e2-cede4bb9730e"
    },
    {
      "cell_type": "code",
      "source": "def GCD(in_list):\n    small = min(in_list)\n    gcd = -1\n    for i in range(1, small+1):\n        output = []\n        for ele in in_list:\n            output.append(ele%i)\n        if len(set(output)) == 1 and list(set(output))[0] == 0:\n            gcd = i\n    print(f'GCD({in_list}) ➞ {gcd}')\n    \nGCD([10, 20, 40])\nGCD([1, 2, 3, 100])\nGCD([1024, 192, 2048, 512])",
      "metadata": {
        "trusted": true
      },
      "execution_count": 30,
      "outputs": [
        {
          "name": "stdout",
          "text": "GCD([10, 20, 40]) ➞ 10\nGCD([1, 2, 3, 100]) ➞ 1\nGCD([1024, 192, 2048, 512]) ➞ 64\n",
          "output_type": "stream"
        }
      ],
      "id": "d7bb0076-ceb6-4c21-abb0-a28e53486334"
    },
    {
      "cell_type": "code",
      "source": "def palindrome_type(in_num):\n    output = None\n    if str(in_num) == str(in_num)[::-1] and str(bin(in_num)[2:]) == str(bin(in_num)[2:])[::-1]:\n        output = 'Decimal and binary.'\n    elif str(in_num) == str(in_num)[::-1] and str(bin(in_num)[2:]) != str(bin(in_num)[2:])[::-1]:\n        output = 'Decimal only.'\n    elif str(bin(in_num)[2:]) != str(bin(in_num)[2:])[::-1] and str(in_num) == str(in_num)[::-1]:\n        output = 'Binary only.'\n    else:\n        output = 'Neither!'\n    print(f'palindrome({in_num}) ➞ {output}')\n\npalindrome_type(1306031)\npalindrome_type(427787)\npalindrome_type(313)\npalindrome_type(934)",
      "metadata": {
        "trusted": true
      },
      "execution_count": 31,
      "outputs": [
        {
          "name": "stdout",
          "text": "palindrome(1306031) ➞ Decimal only.\npalindrome(427787) ➞ Neither!\npalindrome(313) ➞ Decimal and binary.\npalindrome(934) ➞ Neither!\n",
          "output_type": "stream"
        }
      ],
      "id": "e22c10a5-fe91-406e-9df6-5f3be54ba2fa"
    }
  ]
}