{
  "metadata": {
    "kernelspec": {
      "display_name": "Pyolite",
      "language": "python",
      "name": "python"
    },
    "language_info": {
      "codemirror_mode": {
        "name": "python",
        "version": 3
      },
      "file_extension": ".py",
      "mimetype": "text/x-python",
      "name": "python",
      "nbconvert_exporter": "python",
      "pygments_lexer": "ipython3",
      "version": "3.8"
    }
  },
  "nbformat_minor": 5,
  "nbformat": 4,
  "cells": [
    {
      "cell_type": "code",
      "source": "def pentagonal(in_num):\n    output = 1\n    if in_num >=1:\n        for ele in range(in_num):\n            output = output + (5*ele)\n        print(f'pentagonal({in_num}) ➞ {output}')\n    else:\n        print(\"Enter a Positive Number as Input\")\n        \npentagonal(1) \npentagonal(2)\npentagonal(3)\npentagonal(8)\n",
      "metadata": {
        "trusted": true
      },
      "execution_count": 65,
      "outputs": [
        {
          "name": "stdout",
          "text": "pentagonal(1) ➞ 1\npentagonal(2) ➞ 6\npentagonal(3) ➞ 16\npentagonal(8) ➞ 141\n",
          "output_type": "stream"
        }
      ],
      "id": "553332be-635b-4928-b31a-16b41b1e919f"
    },
    {
      "cell_type": "code",
      "source": "def encrypt(in_string):\n    vowels = {'a':'0','e':'1','i':'2','o':'2','u':'2'}\n    out_string = ''\n    for ele in in_string[::-1]:\n        if ele in vowels.keys():\n            out_string += vowels[ele]\n        else:\n            out_string += ele\n    out_string += \"aca\"\n    print(f'encrypt({in_string}) ➞ {out_string}')\n        \nencrypt(\"banana\")\nencrypt(\"karaca\")\nencrypt(\"burak\")\nencrypt(\"alpaca\") ",
      "metadata": {
        "trusted": true
      },
      "execution_count": 66,
      "outputs": [
        {
          "name": "stdout",
          "text": "encrypt(banana) ➞ 0n0n0baca\nencrypt(karaca) ➞ 0c0r0kaca\nencrypt(burak) ➞ k0r2baca\nencrypt(alpaca) ➞ 0c0pl0aca\n",
          "output_type": "stream"
        }
      ],
      "id": "831a207b-3021-43a2-acf8-d562141a88d1"
    },
    {
      "cell_type": "code",
      "source": "import datetime\ndef has_friday_13(month,year):\n    output = False\n    if datetime.datetime(year,month,13).strftime('%A') == 'Friday':\n        output = True\n    print(f'has_friday_13{month,year} ➞ {output}')\n\nhas_friday_13(3, 2020)\nhas_friday_13(10, 2017)\nhas_friday_13(1, 1985)",
      "metadata": {
        "trusted": true
      },
      "execution_count": 67,
      "outputs": [
        {
          "name": "stdout",
          "text": "has_friday_13(3, 2020) ➞ True\nhas_friday_13(10, 2017) ➞ True\nhas_friday_13(1, 1985) ➞ False\n",
          "output_type": "stream"
        }
      ],
      "id": "c08a7e03-34b0-48ab-a6a9-d8b5a77fb90f"
    },
    {
      "cell_type": "code",
      "source": "import re\nlst = [\"bad cookie\", \"good cookie\", \"bad cookie\", \"good cookie\", \"good cookie\"]\npattern = r'(?<!good)\\scookie'# Regex Negative lookbehind expression\ndata = re.findall(pattern,' '.join(lst))\nprint(f'No of Bad cookies produced per day ➞ {len(data)}')",
      "metadata": {
        "trusted": true
      },
      "execution_count": 68,
      "outputs": [
        {
          "name": "stdout",
          "text": "No of Bad cookies produced per day ➞ 2\n",
          "output_type": "stream"
        }
      ],
      "id": "f81a2b53-a652-466a-9b88-bdb82538264d"
    },
    {
      "cell_type": "code",
      "source": "def pluralize(in_list):\n    out_set = set()\n    for ele in set(in_list):\n        if in_list.count(ele) > 1:\n            out_set.add(ele+'s')\n        else:\n            out_set.add(ele)\n    print(f'pluralize({in_list})  ➞ {out_set}')\n    \npluralize([\"cow\", \"pig\", \"cow\", \"cow\"])\npluralize([\"table\", \"table\", \"table\"])\npluralize([\"chair\", \"pencil\", \"arm\"]) ",
      "metadata": {
        "trusted": true
      },
      "execution_count": 69,
      "outputs": [
        {
          "name": "stdout",
          "text": "pluralize(['cow', 'pig', 'cow', 'cow'])  ➞ {'pig', 'cows'}\npluralize(['table', 'table', 'table'])  ➞ {'tables'}\npluralize(['chair', 'pencil', 'arm'])  ➞ {'chair', 'arm', 'pencil'}\n",
          "output_type": "stream"
        }
      ],
      "id": "8ab96b69-0a33-4c9f-9ac3-9b74c18a8d3c"
    }
  ]
}