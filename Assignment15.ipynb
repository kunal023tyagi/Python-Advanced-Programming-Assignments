{
  "metadata": {
    "kernelspec": {
      "display_name": "Pyolite",
      "language": "python",
      "name": "python"
    },
    "language_info": {
      "codemirror_mode": {
        "name": "python",
        "version": 3
      },
      "file_extension": ".py",
      "mimetype": "text/x-python",
      "name": "python",
      "nbconvert_exporter": "python",
      "pygments_lexer": "ipython3",
      "version": "3.8"
    }
  },
  "nbformat_minor": 5,
  "nbformat": 4,
  "cells": [
    {
      "cell_type": "code",
      "source": "def anagram(in_string,in_list):\n    in_string_list = list(in_string.lower())\n    in_string_list.remove(' ')\n    not_exist_list = []\n    output = False\n    for item in in_list:\n        for ele in item:\n            if ele in in_string_list:\n                in_string_list.remove(ele)\n            else:\n                not_exist_list.append(ele)\n    if len(in_string_list) == 0 and len(not_exist_list) == 0:\n        output = True\n    print(f'anagram{in_string,in_list} ➞ {output}')\n            \nanagram(\"Justin Bieber\", [\"injures\", \"ebb\", \"it\"])\nanagram(\"Natalie Portman\", [\"ornamental\", \"pita\"])\nanagram(\"Chris Pratt\", [\"chirps\", \"rat\"])\nanagram(\"Jeff Goldblum\", [\"jog\", \"meld\", \"bluffs\"])",
      "metadata": {
        "trusted": true
      },
      "execution_count": 120,
      "outputs": [
        {
          "name": "stdout",
          "text": "anagram('Justin Bieber', ['injures', 'ebb', 'it']) ➞ True\nanagram('Natalie Portman', ['ornamental', 'pita']) ➞ True\nanagram('Chris Pratt', ['chirps', 'rat']) ➞ False\nanagram('Jeff Goldblum', ['jog', 'meld', 'bluffs']) ➞ False\n",
          "output_type": "stream"
        }
      ],
      "id": "eab965f3-097f-4345-b1c5-4931627e7cbb"
    },
    {
      "cell_type": "code",
      "source": "def leaderboards(in_list):\n    temp_dict = {}\n    out_list = []\n    for ele in in_list:\n        temp_dict[(ele['reputation']*2)+ele['score']] = ele\n    for ele in sorted(temp_dict.keys(),reverse=True):\n        out_list.append(temp_dict[ele])\n    print(f'leaderboards({in_list}) ➞ {out_list}')\n    \nleaderboards([\n  { \"name\": \"a\", \"score\": 100, \"reputation\": 20 },\n  { \"name\": \"b\", \"score\": 90, \"reputation\": 40 },\n  { \"name\": \"c\", \"score\": 115, \"reputation\": 30 },\n])",
      "metadata": {
        "trusted": true
      },
      "execution_count": 121,
      "outputs": [
        {
          "name": "stdout",
          "text": "leaderboards([{'name': 'a', 'score': 100, 'reputation': 20}, {'name': 'b', 'score': 90, 'reputation': 40}, {'name': 'c', 'score': 115, 'reputation': 30}]) ➞ [{'name': 'c', 'score': 115, 'reputation': 30}, {'name': 'b', 'score': 90, 'reputation': 40}, {'name': 'a', 'score': 100, 'reputation': 20}]\n",
          "output_type": "stream"
        }
      ],
      "id": "9b33b6aa-4aaf-4760-ae96-fd7e1b52d9e0"
    },
    {
      "cell_type": "code",
      "source": "def hangman(in_string,in_list):\n    out_string = ''\n    for ele in range(len(in_string)):\n        if in_string[ele].lower() in in_list:\n            out_string += in_string[ele]\n        elif in_string[ele] in '\"! ':\n            out_string += in_string[ele]\n        else:\n            out_string += '-'\n    print(f'hangman{in_string,in_list} ➞ {out_string}')\n        \nhangman(\"helicopter\", [\"o\", \"e\", \"s\"])\nhangman(\"tree\", [\"r\", \"t\", \"e\"])\nhangman(\"Python rules\", [\"a\", \"n\", \"p\", \"r\", \"z\"])\nhangman(\"He\\\"s a very naughty boy!\", [\"e\", \"a\", \"y\"])",
      "metadata": {
        "trusted": true
      },
      "execution_count": 122,
      "outputs": [
        {
          "name": "stdout",
          "text": "hangman('helicopter', ['o', 'e', 's']) ➞ -e---o--e-\nhangman('tree', ['r', 't', 'e']) ➞ tree\nhangman('Python rules', ['a', 'n', 'p', 'r', 'z']) ➞ P----n r----\nhangman('He\"s a very naughty boy!', ['e', 'a', 'y']) ➞ -e\"- a -e-y -a----y --y!\n",
          "output_type": "stream"
        }
      ],
      "id": "ddcb148c-8250-4018-a1b5-e4ae46756432"
    },
    {
      "cell_type": "code",
      "source": "def max_collatz(in_num):\n    out_list = []\n    out_list.append(in_num)\n    temp_in_num = in_num\n    while True:\n        if temp_in_num%2 == 0:\n            temp_in_num /= 2\n        else:\n            temp_in_num = (temp_in_num*3)+1\n        out_list.append(int(temp_in_num))\n        if temp_in_num ==1:\n            break\n            \n    x= str(out_list)\n    print(f'max_collatz({in_num}) ➞ {max(out_list)}')\n\nmax_collatz(10)\nmax_collatz(32)\nmax_collatz(85)\n",
      "metadata": {
        "trusted": true
      },
      "execution_count": 123,
      "outputs": [
        {
          "name": "stdout",
          "text": "max_collatz(10) ➞ 16\nmax_collatz(32) ➞ 32\nmax_collatz(85) ➞ 256\n",
          "output_type": "stream"
        }
      ],
      "id": "75d1dd8a-02e5-48e3-827b-4e99d5a6198c"
    },
    {
      "cell_type": "code",
      "source": "def digit_sort(in_list):\n    max_len = len(str(max(in_list)))\n    output = []\n    for item in range(max_len,0,-1):\n        temp = []\n        for ele in in_list:\n            if len(str(ele)) == item:\n                temp.append(ele)\n        output.extend(sorted(temp))\n    print(f'digit_sort({in_list}) ➞ {output}')\n    \ndigit_sort([77, 23, 5, 7, 101])\ndigit_sort([1, 5, 9, 2, 789, 563, 444])\ndigit_sort([53219, 3772, 564, 32, 1])",
      "metadata": {
        "trusted": true
      },
      "execution_count": 124,
      "outputs": [
        {
          "name": "stdout",
          "text": "digit_sort([77, 23, 5, 7, 101]) ➞ [101, 23, 77, 5, 7]\ndigit_sort([1, 5, 9, 2, 789, 563, 444]) ➞ [444, 563, 789, 1, 2, 5, 9]\ndigit_sort([53219, 3772, 564, 32, 1]) ➞ [53219, 3772, 564, 32, 1]\n",
          "output_type": "stream"
        }
      ],
      "id": "fcbda8fc-db3b-4670-9f24-42beb84ffef7"
    }
  ]
}