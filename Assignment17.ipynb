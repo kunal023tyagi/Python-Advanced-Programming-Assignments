{
  "metadata": {
    "kernelspec": {
      "display_name": "Pyolite",
      "language": "python",
      "name": "python"
    },
    "language_info": {
      "codemirror_mode": {
        "name": "python",
        "version": 3
      },
      "file_extension": ".py",
      "mimetype": "text/x-python",
      "name": "python",
      "nbconvert_exporter": "python",
      "pygments_lexer": "ipython3",
      "version": "3.8"
    }
  },
  "nbformat_minor": 5,
  "nbformat": 4,
  "cells": [
    {
      "cell_type": "code",
      "source": "def transpose_matrix(in_list):\n    output = []\n    for ele_1 in range(len(in_list[0])):\n        temp = []\n        for ele_2 in in_list:\n            temp.append(ele_2[ele_1])\n        output.append(temp)\n    print(f'transpose_matrix({in_list}) ➞ {output}')\n\ntranspose_matrix([[1, 1, 1],[2, 2, 2],[3, 3, 3]])\ntranspose_matrix([[5, 5],[6, 7],[9, 1]])",
      "metadata": {
        "trusted": true
      },
      "execution_count": 130,
      "outputs": [
        {
          "name": "stdout",
          "text": "transpose_matrix([[1, 1, 1], [2, 2, 2], [3, 3, 3]]) ➞ [[1, 2, 3], [1, 2, 3], [1, 2, 3]]\ntranspose_matrix([[5, 5], [6, 7], [9, 1]]) ➞ [[5, 6, 9], [5, 7, 1]]\n",
          "output_type": "stream"
        }
      ],
      "id": "a26cd807-680c-465e-911d-3164652cfff5"
    },
    {
      "cell_type": "code",
      "source": "def is_valid_hex_code(in_string):\n    out_string = True\n    for ele in in_string:\n        if ele.lower() not in '#abcdef0123456789' or len(in_string) != 7:\n            out_string = False\n    print(f'is_valid_hex_code({in_string}) ➞ {out_string}')\n\nis_valid_hex_code(\"#CD5C5C\")\nis_valid_hex_code(\"#EAECEE\")\nis_valid_hex_code(\"#eaecee\")\nis_valid_hex_code(\"#CD5C58C\")\nis_valid_hex_code(\"#CD5C5Z\")\nis_valid_hex_code(\"#CD5C&C\")\nis_valid_hex_code(\"CD5C5C\")",
      "metadata": {
        "trusted": true
      },
      "execution_count": 131,
      "outputs": [
        {
          "name": "stdout",
          "text": "is_valid_hex_code(#CD5C5C) ➞ True\nis_valid_hex_code(#EAECEE) ➞ True\nis_valid_hex_code(#eaecee) ➞ True\nis_valid_hex_code(#CD5C58C) ➞ False\nis_valid_hex_code(#CD5C5Z) ➞ False\nis_valid_hex_code(#CD5C&C) ➞ False\nis_valid_hex_code(CD5C5C) ➞ False\n",
          "output_type": "stream"
        }
      ],
      "id": "f8f22071-ad92-4df7-a58b-f0bf9b7dd65d"
    },
    {
      "cell_type": "code",
      "source": "import math\ndef mark_maths(in_list):\n    out_list = []\n    for ele in in_list:\n        ele = ele.split(\"=\")\n        out_list.append(eval(ele[0]) == int(ele[1])) \n    print(f'mark_maths({in_list}) ➞ {str(math.ceil((sum(out_list)/len(out_list))*100))}%')\n        \nmark_maths([\"2+2=4\", \"3+2=5\", \"10-3=3\", \"5+5=10\"])\nmark_maths([\"1-2=-2\"])\nmark_maths([\"2+3=5\", \"4+4=9\", \"3-1=2\"])",
      "metadata": {
        "trusted": true
      },
      "execution_count": 132,
      "outputs": [
        {
          "name": "stdout",
          "text": "mark_maths(['2+2=4', '3+2=5', '10-3=3', '5+5=10']) ➞ 75%\nmark_maths(['1-2=-2']) ➞ 0%\nmark_maths(['2+3=5', '4+4=9', '3-1=2']) ➞ 67%\n",
          "output_type": "stream"
        }
      ],
      "id": "66657485-2097-477d-851e-9131cfb857f7"
    },
    {
      "cell_type": "code",
      "source": "def magic_square_game(in_one,in_two):\n    output = False\n    if in_two[1][in_one[0]-1] == in_one[1][in_two[0]-1]:\n        output = True\n    print(f'magic_square_game{in_one,in_two} ➞ {output}')\n    \nmagic_square_game([2, \"100\"], [1, \"101\"])\nmagic_square_game([2, \"001\"], [1, \"101\"]) \nmagic_square_game([3, \"111\"], [2, \"011\"]) \nmagic_square_game([1, \"010\"], [3, \"101\"]) ",
      "metadata": {
        "trusted": true
      },
      "execution_count": 133,
      "outputs": [
        {
          "name": "stdout",
          "text": "magic_square_game([2, '100'], [1, '101']) ➞ False\nmagic_square_game([2, '001'], [1, '101']) ➞ True\nmagic_square_game([3, '111'], [2, '011']) ➞ True\nmagic_square_game([1, '010'], [3, '101']) ➞ False\n",
          "output_type": "stream"
        }
      ],
      "id": "cb1d3871-8ef9-42b1-9b99-68445152b1f7"
    },
    {
      "cell_type": "code",
      "source": "import math\ndef lets_meet(in_dist,in_va,in_vb):\n    total_time = in_dist/(in_va+in_vb)\n    Hours = math.floor(total_time) \n    Minutes = math.floor((total_time-Hours)*60)\n    Seconds = math.floor(((((total_time)-Hours)*60)-Minutes)*60)\n    print(f'lets_meet{in_dist,in_va,in_vb} ➞ {Hours}h {Minutes}min {Seconds}s')\n    \nlets_meet(100, 10, 30)\nlets_meet(280, 70, 80)\nlets_meet(90, 75, 65)",
      "metadata": {
        "trusted": true
      },
      "execution_count": 134,
      "outputs": [
        {
          "name": "stdout",
          "text": "lets_meet(100, 10, 30) ➞ 2h 30min 0s\nlets_meet(280, 70, 80) ➞ 1h 52min 0s\nlets_meet(90, 75, 65) ➞ 0h 38min 34s\n",
          "output_type": "stream"
        }
      ],
      "id": "fcab6e39-7bec-417a-81bd-a58fc852f099"
    }
  ]
}