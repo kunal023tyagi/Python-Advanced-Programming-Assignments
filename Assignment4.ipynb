{
  "metadata": {
    "kernelspec": {
      "display_name": "Pyolite",
      "language": "python",
      "name": "python"
    },
    "language_info": {
      "codemirror_mode": {
        "name": "python",
        "version": 3
      },
      "file_extension": ".py",
      "mimetype": "text/x-python",
      "name": "python",
      "nbconvert_exporter": "python",
      "pygments_lexer": "ipython3",
      "version": "3.8"
    }
  },
  "nbformat_minor": 5,
  "nbformat": 4,
  "cells": [
    {
      "cell_type": "code",
      "source": "# Approach 1\ndef fib_fast_one(in_num):\n    temp_list = []\n    for ele in range(in_num+1):\n        if ele in [0,1]:\n            temp_list.append(ele)\n        else:\n            temp_list.append(temp_list[-1]+temp_list[-2])\n    print(f'fib_fast_one({in_num}) ➞ {temp_list[-1]}')\n    \n# Approach 2 -> Memory Efficient\ndef fib_fast_two(in_num):\n    back_two,back_one,output = 0,1,0\n    for ele in range(in_num+1):\n        if ele > 1:\n            output = back_two+back_one\n            back_two = back_one\n            back_one = output\n    print(f'fib_fast_two({in_num}) ➞ {output}')\n\nfib_fast_one(5)\nfib_fast_one(10)\nfib_fast_one(20)\nfib_fast_one(50)    \nprint() \nfib_fast_two(5)\nfib_fast_two(10)\nfib_fast_two(20)\nfib_fast_two(50)",
      "metadata": {
        "trusted": true
      },
      "execution_count": 75,
      "outputs": [
        {
          "name": "stdout",
          "text": "fib_fast_one(5) ➞ 5\nfib_fast_one(10) ➞ 55\nfib_fast_one(20) ➞ 6765\nfib_fast_one(50) ➞ 12586269025\n\nfib_fast_two(5) ➞ 5\nfib_fast_two(10) ➞ 55\nfib_fast_two(20) ➞ 6765\nfib_fast_two(50) ➞ 12586269025\n",
          "output_type": "stream"
        }
      ],
      "id": "9f19843e-8aa8-4bd3-8696-d912e410da64"
    },
    {
      "cell_type": "code",
      "source": "def convert_to_hex(in_string):\n    out_string = []\n    for ele in in_string:\n        out_string.append(hex(ord(ele))[2:])\n    print(f'convert_to_hex({in_string}) ➞ {\" \".join(out_string)}')\n\nconvert_to_hex(\"hello world\")\nconvert_to_hex(\"Big Boi\")\nconvert_to_hex(\"Marty Poppinson\")",
      "metadata": {
        "trusted": true
      },
      "execution_count": 76,
      "outputs": [
        {
          "name": "stdout",
          "text": "convert_to_hex(hello world) ➞ 68 65 6c 6c 6f 20 77 6f 72 6c 64\nconvert_to_hex(Big Boi) ➞ 42 69 67 20 42 6f 69\nconvert_to_hex(Marty Poppinson) ➞ 4d 61 72 74 79 20 50 6f 70 70 69 6e 73 6f 6e\n",
          "output_type": "stream"
        }
      ],
      "id": "e2135445-8110-4ff1-a95a-9e4f1647c122"
    },
    {
      "cell_type": "code",
      "source": "",
      "metadata": {},
      "execution_count": null,
      "outputs": [],
      "id": "aa647239-95d2-48f6-8a3c-8b8cbcd61c48"
    },
    {
      "cell_type": "code",
      "source": "def uncensor(in_string,in_vowels):\n    window = 0\n    out_string = ''\n    for ele in in_string:\n        if ele == '*':\n            out_string += in_vowels[window]\n            window +=1\n        else:\n            out_string += ele\n    print(f'uncensor{in_string,in_vowels} ➞ {out_string}')\n\nuncensor(\"Wh*r* d*d my v*w*ls g*?\", \"eeioeo\")\nuncensor(\"abcd\", \"\")\nuncensor(\"*PP*RC*S*\", \"UEAE\") ",
      "metadata": {
        "trusted": true
      },
      "execution_count": 77,
      "outputs": [
        {
          "name": "stdout",
          "text": "uncensor('Wh*r* d*d my v*w*ls g*?', 'eeioeo') ➞ Where did my vowels go?\nuncensor('abcd', '') ➞ abcd\nuncensor('*PP*RC*S*', 'UEAE') ➞ UPPERCASE\n",
          "output_type": "stream"
        }
      ],
      "id": "b9d266c6-e6aa-4e96-8680-7872490e8da8"
    },
    {
      "cell_type": "code",
      "source": "import socket\ndef get_domain(in_ip):\n    print(f'get_domain({in_ip}) ➞ {socket.gethostbyaddr(in_ip)} ➞ {socket.gethostbyaddr(in_ip)[0]}')\n    \nget_domain(\"8.8.8.8\")\nget_domain(\"8.8.4.4\")",
      "metadata": {
        "trusted": true
      },
      "execution_count": 78,
      "outputs": [
        {
          "name": "stdout",
          "text": "get_domain(8.8.8.8) ➞ ('8.8.8.8', [], ['8.8.8.8']) ➞ 8.8.8.8\nget_domain(8.8.4.4) ➞ ('8.8.4.4', [], ['8.8.4.4']) ➞ 8.8.4.4\n",
          "output_type": "stream"
        }
      ],
      "id": "5a88df61-030d-4eab-941d-7a29632cc7a2"
    },
    {
      "cell_type": "code",
      "source": "def fact_of_fact(in_num):\n    # Internal Function to generate factorial of a Number\n    def get_factorial(n):\n        if n == 1:\n            return 1\n        else:\n            return n*get_factorial(n-1)      \n    out_num = 1\n    for ele in range(1,in_num+1):\n        out_num *= get_factorial(ele)\n    print(f'fact_of_fact({in_num}) ➞ {out_num}')\n\nfact_of_fact(4)\nfact_of_fact(5)\nfact_of_fact(6)",
      "metadata": {
        "trusted": true
      },
      "execution_count": 79,
      "outputs": [
        {
          "name": "stdout",
          "text": "fact_of_fact(4) ➞ 288\nfact_of_fact(5) ➞ 34560\nfact_of_fact(6) ➞ 24883200\n",
          "output_type": "stream"
        }
      ],
      "id": "0b13abde-01ca-4f42-8eb3-4ef8ff2156eb"
    }
  ]
}