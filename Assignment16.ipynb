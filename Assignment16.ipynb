{
  "metadata": {
    "kernelspec": {
      "display_name": "Pyolite",
      "language": "python",
      "name": "python"
    },
    "language_info": {
      "codemirror_mode": {
        "name": "python",
        "version": 3
      },
      "file_extension": ".py",
      "mimetype": "text/x-python",
      "name": "python",
      "nbconvert_exporter": "python",
      "pygments_lexer": "ipython3",
      "version": "3.8"
    }
  },
  "nbformat_minor": 5,
  "nbformat": 4,
  "cells": [
    {
      "cell_type": "code",
      "source": "def valid_rondo(in_string):\n    in_string_x = in_string.replace('A','')\n    in_string_x = list(in_string_x)\n    output = False\n    if len(in_string_x) == 1:\n            output= True\n    else:\n        for ele in range(len(in_string_x)-1):\n            if ord(in_string_x[ele]) < ord(in_string_x[ele+1]):\n                output= True\n            else:\n                output = False\n                break\n    print(f\"valid_rondo({in_string}) ➞ {output}\")\n   \nvalid_rondo(\"ABACADAEAFAGAHAIAJA\")\nvalid_rondo(\"ABA\")\nvalid_rondo(\"ABBACCA\")\nvalid_rondo(\"ACAC\")\nvalid_rondo(\"A\")",
      "metadata": {
        "trusted": true
      },
      "execution_count": 125,
      "outputs": [
        {
          "name": "stdout",
          "text": "valid_rondo(ABACADAEAFAGAHAIAJA) ➞ True\nvalid_rondo(ABA) ➞ True\nvalid_rondo(ABBACCA) ➞ False\nvalid_rondo(ACAC) ➞ False\nvalid_rondo(A) ➞ False\n",
          "output_type": "stream"
        }
      ],
      "id": "19902b85-3d56-4858-8450-ed6addaf45a0"
    },
    {
      "cell_type": "code",
      "source": "def sentence_searcher(in_string, search_text):\n    output = '\"\"'\n    for ele in in_string.split(\". \"):\n        if len(ele.lower().replace(search_text.lower(),'')) != len(ele):\n            output = ele\n            break\n    print(f'sentence_searcher{in_string,search_text} ➞ {output}')\n\ntxt = \"I have a cat. I have a mat. Things are going swell.\"\n\nsentence_searcher(txt, \"have\")\nsentence_searcher(txt, \"MAT\")\nsentence_searcher(txt, \"things\")\nsentence_searcher(txt, \"flat\")",
      "metadata": {
        "trusted": true
      },
      "execution_count": 126,
      "outputs": [
        {
          "name": "stdout",
          "text": "sentence_searcher('I have a cat. I have a mat. Things are going swell.', 'have') ➞ I have a cat\nsentence_searcher('I have a cat. I have a mat. Things are going swell.', 'MAT') ➞ I have a mat\nsentence_searcher('I have a cat. I have a mat. Things are going swell.', 'things') ➞ Things are going swell.\nsentence_searcher('I have a cat. I have a mat. Things are going swell.', 'flat') ➞ \"\"\n",
          "output_type": "stream"
        }
      ],
      "id": "e2db991f-2556-4202-86d2-23b8a3ea7aa2"
    },
    {
      "cell_type": "code",
      "source": "def sum_round(in_num):\n    output = []\n    in_num = str(in_num)\n    for ele in range(len(in_num)):\n        if in_num[ele] != '0':\n            output.append(in_num[ele]+len(in_num[ele+1:])*'0')\n    print(f'sum_round({in_num}) ➞ {\" \".join(output[::-1])}')\n        \nsum_round(101)\nsum_round(1234)\nsum_round(54210)",
      "metadata": {
        "trusted": true
      },
      "execution_count": 127,
      "outputs": [
        {
          "name": "stdout",
          "text": "sum_round(101) ➞ 1 100\nsum_round(1234) ➞ 4 30 200 1000\nsum_round(54210) ➞ 10 200 4000 50000\n",
          "output_type": "stream"
        }
      ],
      "id": "ce648eca-9fe8-49b1-a9e0-137542b1d5ba"
    },
    {
      "cell_type": "code",
      "source": "\nIn [4]:\ndef multiplication_table(in_num):\n    out_list =[]\n    for a in range(1,in_num+1):\n        temp_list = []\n        for b in range(1,in_num+1):\n            temp_list.append(a*b)\n        out_list.append(temp_list)\n    print(f'multiplication_table({in_num}) ➞ {out_list}')\n        \nmultiplication_table(3) \nmultiplication_table(1)\nmultiplication_table(5)",
      "metadata": {
        "trusted": true
      },
      "execution_count": 128,
      "outputs": [
        {
          "ename": "<class 'SyntaxError'>",
          "evalue": "invalid syntax (<ipython-input-128-e7f9110ac34b>, line 1)",
          "traceback": [
            "\u001b[0;36m  Input \u001b[0;32mIn [128]\u001b[0;36m\u001b[0m\n\u001b[0;31m    In [4]:\u001b[0m\n\u001b[0m           ^\u001b[0m\n\u001b[0;31mSyntaxError\u001b[0m\u001b[0;31m:\u001b[0m invalid syntax\n"
          ],
          "output_type": "error"
        }
      ],
      "id": "c5dc3f5c-f190-4801-bed0-19e0df366c95"
    },
    {
      "cell_type": "code",
      "source": "def does_rhyme(in_one,in_two):\n    vowels = 'aeiou'\n    output= False\n    in_one_rhyme = [x.lower() for x in in_one.split(\" \")[-1] if x.lower() in vowels]\n    in_two_rhyme = [x.lower() for x in in_two.split(\" \")[-1] if x.lower() in vowels]\n    if in_one_rhyme == in_two_rhyme:\n        output = True\n    print(f'does_rhyme{in_one,in_two} ➞ {output}')\n    \ndoes_rhyme(\"Sam I am!\", \"Green eggs and ham.\")\ndoes_rhyme(\"Sam I am!\", \"Green eggs and HAM.\")\ndoes_rhyme(\"You are off to the races\", \"a splendid day.\")\ndoes_rhyme(\"and frequently do?\", \"you gotta move.\")",
      "metadata": {
        "trusted": true
      },
      "execution_count": 129,
      "outputs": [
        {
          "name": "stdout",
          "text": "does_rhyme('Sam I am!', 'Green eggs and ham.') ➞ True\ndoes_rhyme('Sam I am!', 'Green eggs and HAM.') ➞ True\ndoes_rhyme('You are off to the races', 'a splendid day.') ➞ False\ndoes_rhyme('and frequently do?', 'you gotta move.') ➞ False\n",
          "output_type": "stream"
        }
      ],
      "id": "a935089b-23b2-47c2-b95d-c080eda97831"
    }
  ]
}