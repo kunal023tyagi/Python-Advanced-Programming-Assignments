{
  "metadata": {
    "kernelspec": {
      "display_name": "Pyolite",
      "language": "python",
      "name": "python"
    },
    "language_info": {
      "codemirror_mode": {
        "name": "python",
        "version": 3
      },
      "file_extension": ".py",
      "mimetype": "text/x-python",
      "name": "python",
      "nbconvert_exporter": "python",
      "pygments_lexer": "ipython3",
      "version": "3.8"
    }
  },
  "nbformat_minor": 5,
  "nbformat": 4,
  "cells": [
    {
      "cell_type": "code",
      "source": "def playback_duration(in_time,playback_speed):\n    time = in_time.split(\":\")\n    time_in_secs = (3600*int(time[0])+60*int(time[1])+int(time[2]))/playback_speed\n    f_time_in_hours = str(int(time_in_secs/3600)) if time_in_secs > 3600 else '00'\n    f_time_in_mins = str(int((time_in_secs%3600)/60)) if (time_in_secs)%3600 > 60 else '00'\n    f_time_in_secs = str(int((time_in_secs%3600)%60)) if ((time_in_secs)%3600)%60 > 0 else '00'   \n    output = f'{f_time_in_hours}:{f_time_in_mins}:{f_time_in_secs}'\n    print(f'playback_duration{in_time, playback_speed} ➞ {output}')\n    \nplayback_duration(\"00:30:00\", 2)\nplayback_duration(\"01:20:00\", 1.5)\nplayback_duration(\"51:20:09\", 0.5) \n",
      "metadata": {
        "trusted": true
      },
      "execution_count": 95,
      "outputs": [
        {
          "name": "stdout",
          "text": "playback_duration('00:30:00', 2) ➞ 00:15:00\nplayback_duration('01:20:00', 1.5) ➞ 00:53:20\nplayback_duration('51:20:09', 0.5) ➞ 102:40:18\n",
          "output_type": "stream"
        }
      ],
      "id": "fd607a90-9594-4111-b064-5abfda156059"
    },
    {
      "cell_type": "code",
      "source": "def pile_of_cubes(in_volume):\n    out_volume = 0\n    output = 0\n    for cube in range(1,in_volume):\n        out_volume += pow(cube,3)\n        if in_volume <= out_volume:\n            output = cube if in_volume == out_volume else None\n            break\n    print(f'pile_of_cubes({in_volume}) ➞ {output}')\n\npile_of_cubes(1071225)\npile_of_cubes(4183059834009)\npile_of_cubes(16)",
      "metadata": {
        "trusted": true
      },
      "execution_count": 96,
      "outputs": [
        {
          "name": "stdout",
          "text": "pile_of_cubes(1071225) ➞ 45\npile_of_cubes(4183059834009) ➞ None\npile_of_cubes(16) ➞ None\n",
          "output_type": "stream"
        }
      ],
      "id": "41fd98e7-f900-4113-b3e1-8e5535be8f01"
    },
    {
      "cell_type": "code",
      "source": "def find_fulcrum(in_list):\n    output = -1\n    for ele in in_list:\n        index_of_ele =in_list.index(ele)\n        if sum(in_list[:index_of_ele]) == sum(in_list[index_of_ele+1:]):\n            output = ele\n            break\n    print(f'find_fulcrum({in_list}) ➞ {output}')\n        \nfind_fulcrum([3, 1, 5, 2, 4, 6, -1])\nfind_fulcrum([1, 2, 4, 9, 10, -10, -9, 3])\nfind_fulcrum([9, 1, 9])\nfind_fulcrum([7, -1, 0, -1, 1, 1, 2, 3])\nfind_fulcrum([8, 8, 8, 8])\n",
      "metadata": {
        "trusted": true
      },
      "execution_count": 97,
      "outputs": [
        {
          "name": "stdout",
          "text": "find_fulcrum([3, 1, 5, 2, 4, 6, -1]) ➞ 2\nfind_fulcrum([1, 2, 4, 9, 10, -10, -9, 3]) ➞ 4\nfind_fulcrum([9, 1, 9]) ➞ 1\nfind_fulcrum([7, -1, 0, -1, 1, 1, 2, 3]) ➞ 0\nfind_fulcrum([8, 8, 8, 8]) ➞ -1\n",
          "output_type": "stream"
        }
      ],
      "id": "23b0d276-a923-46f4-81f2-19358652293e"
    },
    {
      "cell_type": "code",
      "source": "def sock_merchant(in_list):\n    paired_socks = {}\n    output = 0\n    for ele in in_list:\n        if ele in paired_socks:\n            paired_socks[ele]+=1\n        else:\n            paired_socks[ele]=1\n    for pair in paired_socks.values():\n        output += pair//2\n    print(f'sock_merchant({in_list}) ➞ {output}')\n    \n\nsock_merchant([10, 20, 20, 10, 10, 30, 50, 10, 20])\nsock_merchant([50, 20, 30, 90, 30, 20, 50, 20, 90])\nsock_merchant([])",
      "metadata": {
        "trusted": true
      },
      "execution_count": 98,
      "outputs": [
        {
          "name": "stdout",
          "text": "sock_merchant([10, 20, 20, 10, 10, 30, 50, 10, 20]) ➞ 3\nsock_merchant([50, 20, 30, 90, 30, 20, 50, 20, 90]) ➞ 4\nsock_merchant([]) ➞ 0\n",
          "output_type": "stream"
        }
      ],
      "id": "f3761e8a-895a-4e55-944c-f3dac3cdb461"
    },
    {
      "cell_type": "code",
      "source": "import re\ndef negative_sum(in_string):\n    pattern = '-\\d+'\n    output = sum([int(ele) for ele in re.findall(pattern,in_string)])\n    print(f'negative_sum(\"{in_string}\") ➞ {output}')\n    \nnegative_sum(\"-12 13%14&-11\")\nnegative_sum(\"22 13%14&-11-22 13 12\")",
      "metadata": {
        "trusted": true
      },
      "execution_count": 99,
      "outputs": [
        {
          "name": "stdout",
          "text": "negative_sum(\"-12 13%14&-11\") ➞ -23\nnegative_sum(\"22 13%14&-11-22 13 12\") ➞ -33\n",
          "output_type": "stream"
        }
      ],
      "id": "4d2acc20-2253-46e6-a396-3a23a97562ad"
    }
  ]
}