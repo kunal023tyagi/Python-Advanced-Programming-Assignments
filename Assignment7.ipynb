{
  "metadata": {
    "kernelspec": {
      "display_name": "Pyolite",
      "language": "python",
      "name": "python"
    },
    "language_info": {
      "codemirror_mode": {
        "name": "python",
        "version": 3
      },
      "file_extension": ".py",
      "mimetype": "text/x-python",
      "name": "python",
      "nbconvert_exporter": "python",
      "pygments_lexer": "ipython3",
      "version": "3.8"
    }
  },
  "nbformat_minor": 5,
  "nbformat": 4,
  "cells": [
    {
      "cell_type": "code",
      "source": "def count_layers(in_list):\n    out_list = []\n    for ele in in_list:\n        if ele not in out_list:\n            out_list.append(ele)\n    print(f'count_layers({in_list}) ➞ {len(out_list)}')\n\ncount_layers([\"AAAA\",\"ABBA\",\"AAAA\"])\ncount_layers([\"AAAAAAAAA\",\"ABBBBBBBA\",\"ABBAAABBA\",\"ABBBBBBBA\",\"AAAAAAAAA\"])\ncount_layers([\"AAAAAAAAAAA\",\"AABBBBBBBAA\",\"AABCCCCCBAA\",\"AABCAAACBAA\",\"AABCADACBAA\",\"AABCAAACBAA\",\"AABCCCCCBAA\",\"AABBBBBBBAA\",\"AAAAAAAAAAA\"])",
      "metadata": {
        "trusted": true
      },
      "execution_count": 90,
      "outputs": [
        {
          "name": "stdout",
          "text": "count_layers(['AAAA', 'ABBA', 'AAAA']) ➞ 2\ncount_layers(['AAAAAAAAA', 'ABBBBBBBA', 'ABBAAABBA', 'ABBBBBBBA', 'AAAAAAAAA']) ➞ 3\ncount_layers(['AAAAAAAAAAA', 'AABBBBBBBAA', 'AABCCCCCBAA', 'AABCAAACBAA', 'AABCADACBAA', 'AABCAAACBAA', 'AABCCCCCBAA', 'AABBBBBBBAA', 'AAAAAAAAAAA']) ➞ 5\n",
          "output_type": "stream"
        }
      ],
      "id": "4c88beb2-d25c-4e66-9670-7da931afc20f"
    },
    {
      "cell_type": "code",
      "source": "def unique_styles(in_list):\n    out_list = []\n    for ele in in_list:\n        for sub_ele in ele.split(','):\n            out_list.append(sub_ele)\n    print(f'unique_styles({in_list}) ➞ {len(set(out_list))}')\n                \nunique_styles([\"Dub,Dancehall\",\"Industrial,Heavy Metal\",\"Techno,Dubstep\",\"Synth-pop,Euro-Disco\",\"Industrial,Techno,Minimal\"]) \nunique_styles([\"Soul\",\"House,Folk\",\"Trance,Downtempo,Big Beat,House\",\"Deep House\",\"Soul\"])\n",
      "metadata": {
        "trusted": true
      },
      "execution_count": 91,
      "outputs": [
        {
          "name": "stdout",
          "text": "unique_styles(['Dub,Dancehall', 'Industrial,Heavy Metal', 'Techno,Dubstep', 'Synth-pop,Euro-Disco', 'Industrial,Techno,Minimal']) ➞ 9\nunique_styles(['Soul', 'House,Folk', 'Trance,Downtempo,Big Beat,House', 'Deep House', 'Soul']) ➞ 7\n",
          "output_type": "stream"
        }
      ],
      "id": "38055d1c-a79a-4560-b7a8-7987096ae7b9"
    },
    {
      "cell_type": "code",
      "source": "primes = [2, 3, 5, 7, 11, 13, 17, 19, 23, 29, 31, 37, 41, 43, 47, 53, 59, 61, 67, 71, 73, 79, 83, 89, 97]\n\ndef is_prime(in_list,in_num):\n    output = 'No'\n    start_point = 0\n    end_point = len(in_list) - 1\n    mid_point = 0\n    while start_point <= end_point:\n        mid_point = (end_point+start_point)//2\n        if in_list[mid_point] < in_num:\n            start_point = mid_point + 1\n        elif in_list[mid_point] > in_num:\n            end_point = mid_point - 1\n        else:\n            output = 'Yes'\n            break\n    print(f'is_prime({in_num}) ➞ {output}')\n\nis_prime(primes, 3)\nis_prime(primes, 4)\nis_prime(primes, 67)\nis_prime(primes, 36)",
      "metadata": {
        "trusted": true
      },
      "execution_count": 92,
      "outputs": [
        {
          "name": "stdout",
          "text": "is_prime(3) ➞ Yes\nis_prime(4) ➞ No\nis_prime(67) ➞ Yes\nis_prime(36) ➞ No\n",
          "output_type": "stream"
        }
      ],
      "id": "b19cc52d-d87c-4934-83a8-4c0dda016986"
    },
    {
      "cell_type": "code",
      "source": "import math\ndef power_ranger(in_base,in_min,in_max):\n    output = []\n    for ele in range(in_min,in_max+1):\n        root = round(math.exp(math.log(ele)/in_base),1)\n        if str(root).split(\".\")[1] == '0':\n            output.append(int(root))\n    print(f'power_ranger{in_base,in_min,in_max} ➞ {len(set(output))}')\n\npower_ranger(2, 49, 65)\npower_ranger(3, 1, 27)\npower_ranger(10, 1, 5)\npower_ranger(5, 31, 33)\npower_ranger(4, 250, 1300)",
      "metadata": {
        "trusted": true
      },
      "execution_count": 93,
      "outputs": [
        {
          "name": "stdout",
          "text": "power_ranger(2, 49, 65) ➞ 2\npower_ranger(3, 1, 27) ➞ 3\npower_ranger(10, 1, 5) ➞ 1\npower_ranger(5, 31, 33) ➞ 1\npower_ranger(4, 250, 1300) ➞ 3\n",
          "output_type": "stream"
        }
      ],
      "id": "68ef327b-832e-4a02-9b2b-2eb917fad9c9"
    },
    {
      "cell_type": "code",
      "source": "def rearranged_difference(in_num):\n    split_num = []\n    for ele in str(in_num):\n        split_num.append(ele)\n    min_num = int(''.join(sorted(split_num))) \n    max_num = int(''.join(sorted(split_num, reverse=True)))\n    print(f'rearranged_difference({in_num}) ➞ {max_num} - {min_num} ➞ {max_num-min_num}')\n    \nrearranged_difference(972882)    \nrearranged_difference(3320707)\n",
      "metadata": {
        "trusted": true
      },
      "execution_count": 94,
      "outputs": [
        {
          "name": "stdout",
          "text": "rearranged_difference(972882) ➞ 988722 - 227889 ➞ 760833\nrearranged_difference(3320707) ➞ 7733200 - 23377 ➞ 7709823\n",
          "output_type": "stream"
        }
      ],
      "id": "050790ef-8149-4a78-9a8e-df717d86137c"
    }
  ]
}