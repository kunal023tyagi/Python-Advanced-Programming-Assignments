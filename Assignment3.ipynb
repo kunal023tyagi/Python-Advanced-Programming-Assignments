{
  "metadata": {
    "kernelspec": {
      "display_name": "Pyolite",
      "language": "python",
      "name": "python"
    },
    "language_info": {
      "codemirror_mode": {
        "name": "python",
        "version": 3
      },
      "file_extension": ".py",
      "mimetype": "text/x-python",
      "name": "python",
      "nbconvert_exporter": "python",
      "pygments_lexer": "ipython3",
      "version": "3.8"
    }
  },
  "nbformat_minor": 5,
  "nbformat": 4,
  "cells": [
    {
      "cell_type": "code",
      "source": "import operator\n\nops = {'+':operator.add,'-':operator.sub,'*':operator.mul,'//':operator.floordiv}\n\ndef arithmetic_operation(in_string):\n    in_list = in_string.split(\" \")\n    output = ops[in_list[1]](int(in_list[0]),int(in_list[2])) if int(in_list[2]) != 0 else -1\n    print(f'arithmetic_operation({in_list[0]} {in_list[1]} {in_list[2]}) ➞ {output}')\n    \narithmetic_operation(\"12 + 12\")\narithmetic_operation(\"12 - 12\")\narithmetic_operation(\"12 * 12\")\narithmetic_operation(\"12 // 0\")",
      "metadata": {
        "trusted": true
      },
      "execution_count": 70,
      "outputs": [
        {
          "name": "stdout",
          "text": "arithmetic_operation(12 + 12) ➞ 24\narithmetic_operation(12 - 12) ➞ 0\narithmetic_operation(12 * 12) ➞ 144\narithmetic_operation(12 // 0) ➞ -1\n",
          "output_type": "stream"
        }
      ],
      "id": "cc5bcfe4-a6a5-4463-8766-a33224bf728a"
    },
    {
      "cell_type": "code",
      "source": "import math\n\ndef distance(a,b):\n    return math.sqrt(pow((b[1]-a[1]),2)+pow((b[0]-a[0]),2))\n\ndef perimeter(in_array):\n    perimeter = []\n    for ele in range(len(in_array)):\n        if ele == len(in_array)-1:\n            perimeter.append(distance(in_array[ele],in_array[0]))\n        else:\n            perimeter.append(distance(in_array[ele],in_array[ele+1]))\n    print(f'perimeter({in_array}) ➞ {sum(perimeter):.2f}')\n    \nperimeter([[15,7],[5,22],[11,1]])\nperimeter([[0,0],[0,1],[1,0]])\nperimeter([[-10,-10],[10,10],[-10,10]])",
      "metadata": {
        "trusted": true
      },
      "execution_count": 71,
      "outputs": [
        {
          "name": "stdout",
          "text": "perimeter([[15, 7], [5, 22], [11, 1]]) ➞ 47.08\nperimeter([[0, 0], [0, 1], [1, 0]]) ➞ 3.41\nperimeter([[-10, -10], [10, 10], [-10, 10]]) ➞ 68.28\n",
          "output_type": "stream"
        }
      ],
      "id": "402f2036-5b20-4eb1-9063-0654f784097b"
    },
    {
      "cell_type": "code",
      "source": "def tallest_skyscraper(in_list):\n    out_list = []\n    for num in range(len(in_list)):\n        count = 0\n        for ele in range(len(in_list[num])):\n            count += in_list[ele][num]\n        out_list.append(count)\n    print(f'tallest_skyscraper({in_list}) ➞ {max(out_list)}')\n        \ntallest_skyscraper([[0, 0, 0, 0],[0, 1, 0, 0],[0, 1, 1, 0],[1, 1, 1, 1]])\ntallest_skyscraper([[0, 1, 0, 0],[0, 1, 0, 0],[0, 1, 1, 0],[1, 1, 1, 1]])\ntallest_skyscraper([[0, 0, 0, 0],[0, 0, 0, 0],[1, 1, 1, 0],[1, 1, 1, 1]])",
      "metadata": {
        "trusted": true
      },
      "execution_count": 72,
      "outputs": [
        {
          "name": "stdout",
          "text": "tallest_skyscraper([[0, 0, 0, 0], [0, 1, 0, 0], [0, 1, 1, 0], [1, 1, 1, 1]]) ➞ 3\ntallest_skyscraper([[0, 1, 0, 0], [0, 1, 0, 0], [0, 1, 1, 0], [1, 1, 1, 1]]) ➞ 4\ntallest_skyscraper([[0, 0, 0, 0], [0, 0, 0, 0], [1, 1, 1, 0], [1, 1, 1, 1]]) ➞ 2\n",
          "output_type": "stream"
        }
      ],
      "id": "8a1f7960-7c7d-42b7-b0b7-6db0ba34b366"
    },
    {
      "cell_type": "code",
      "source": "",
      "metadata": {},
      "execution_count": null,
      "outputs": [],
      "id": "5072074f-b36f-4533-8d5b-4beb8c0daab2"
    },
    {
      "cell_type": "code",
      "source": "4.A financial institution provides professional services to banks and claims charges from the customers based on the number of man-days provided. Internally, it has set a scheme to motivate and reward staff to meet and exceed targeted billable utilization and revenues by paying a bonus for each day claimed from customers in excess of a threshold target.\n\nThis quarterly scheme is calculated with a threshold target of 32 days per quarter, and the incentive payment for each billable day in excess of such threshold target is shown as follows:\n\nDays                             Bonus  \n0 to 32 days                  Zero  \n33 to 40 days         SGD$325 per billable day  \n41 to 48 days         SGD$550 per billable day  \nGreater than 48 days      SGD$600 per billable day\n\nPlease note that incentive payment is calculated progressively. As an example, if an employee reached total billable days of 45 in a quarter, his/her incentive payment is computed as follows:\n32*0 + 8*325 + 5*550 = 5350\nWrite a function to read the billable days of an employee and return the bonus he/she has obtained in that quarter.\n\nExamples:\nbonus(15) ➞ 0\nbonus(37) ➞ 1625\nbonus(50) ➞ 8200\n\nIn [4]:\ndef bonus(int_num):\n    if int_num > 48:\n        output = 0+(8*325)+(8*550)+((int_num-48)*600)\n    elif int_num < 48 and int_num >= 41:\n        output = 0+(8*325)+((int_num-41+1)*550)\n    elif int_num >33 and int_num <= 40:\n        output = 0+((int_num-33+1)*325)\n    else:\n        output = 0\n    print(f'bonus({int_num}) ➞ {output}')\n        \nbonus(15)\nbonus(44)\nbonus(37)\nbonus(50)\nbonus(60)",
      "metadata": {
        "trusted": true
      },
      "execution_count": 73,
      "outputs": [
        {
          "ename": "<class 'SyntaxError'>",
          "evalue": "invalid syntax (<ipython-input-73-d6f68ff752c1>, line 1)",
          "traceback": [
            "\u001b[0;36m  Input \u001b[0;32mIn [73]\u001b[0;36m\u001b[0m\n\u001b[0;31m    4.A financial institution provides professional services to banks and claims charges from the customers based on the number of man-days provided. Internally, it has set a scheme to motivate and reward staff to meet and exceed targeted billable utilization and revenues by paying a bonus for each day claimed from customers in excess of a threshold target.\u001b[0m\n\u001b[0m      ^\u001b[0m\n\u001b[0;31mSyntaxError\u001b[0m\u001b[0;31m:\u001b[0m invalid syntax\n"
          ],
          "output_type": "error"
        }
      ],
      "id": "62b73379-221c-4f76-bd1d-002589bfcd95"
    },
    {
      "cell_type": "code",
      "source": "def is_disarium(in_num):\n    sum = 0\n    output = False\n    for ele in range(len(str(in_num))):\n        sum += int(str(in_num)[ele])**(ele+1)\n    if in_num == sum:\n        output=True\n    print(f'is_disarium({in_num}) ➞ {output}')\n    \nis_disarium(75)\nis_disarium(135)\nis_disarium(544)\nis_disarium(518)\nis_disarium(466)\nis_disarium(8)",
      "metadata": {
        "trusted": true
      },
      "execution_count": 74,
      "outputs": [
        {
          "name": "stdout",
          "text": "is_disarium(75) ➞ False\nis_disarium(135) ➞ True\nis_disarium(544) ➞ False\nis_disarium(518) ➞ True\nis_disarium(466) ➞ False\nis_disarium(8) ➞ True\n",
          "output_type": "stream"
        }
      ],
      "id": "26219c8a-7b9e-42bf-b8d4-845a4b6ad831"
    }
  ]
}