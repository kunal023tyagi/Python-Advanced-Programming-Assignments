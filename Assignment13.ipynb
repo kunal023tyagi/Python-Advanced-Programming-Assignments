{
  "metadata": {
    "kernelspec": {
      "display_name": "Pyolite",
      "language": "python",
      "name": "python"
    },
    "language_info": {
      "codemirror_mode": {
        "name": "python",
        "version": 3
      },
      "file_extension": ".py",
      "mimetype": "text/x-python",
      "name": "python",
      "nbconvert_exporter": "python",
      "pygments_lexer": "ipython3",
      "version": "3.8"
    }
  },
  "nbformat_minor": 5,
  "nbformat": 4,
  "cells": [
    {
      "cell_type": "code",
      "source": "def remove_letters(in_list,in_string):\n    in_list_copy = in_list.copy()\n    for ele in in_string:\n        if ele in in_list:\n            in_list.remove(ele)\n    print(f'remove_letters{in_list_copy,in_string} ➞ {in_list}')\n\nremove_letters([\"s\", \"t\", \"r\", \"i\", \"n\", \"g\", \"w\"], \"string\")\nremove_letters([\"b\", \"b\", \"l\", \"l\", \"g\", \"n\", \"o\", \"a\", \"w\"], \"balloon\")\nremove_letters([\"d\", \"b\", \"t\", \"e\", \"a\", \"i\"], \"edabit\")",
      "metadata": {
        "trusted": true
      },
      "execution_count": 32,
      "outputs": [
        {
          "name": "stdout",
          "text": "remove_letters(['s', 't', 'r', 'i', 'n', 'g', 'w'], 'string') ➞ ['w']\nremove_letters(['b', 'b', 'l', 'l', 'g', 'n', 'o', 'a', 'w'], 'balloon') ➞ ['b', 'g', 'w']\nremove_letters(['d', 'b', 't', 'e', 'a', 'i'], 'edabit') ➞ []\n",
          "output_type": "stream"
        }
      ],
      "id": "e8a9e685-ac48-45cb-be96-5259a0d141f3"
    },
    {
      "cell_type": "code",
      "source": "def blocks(in_num):\n    depth = in_num*3+((in_num)-1)*1\n    height = [x for x in range(2,in_num+2)]\n    print(f'blocks({in_num}) ➞ {depth+sum(height)}')\n        \nblocks(1)\nblocks(2)\nblocks(3)\nblocks(4)\nblocks(5)",
      "metadata": {
        "trusted": true
      },
      "execution_count": 33,
      "outputs": [
        {
          "name": "stdout",
          "text": "blocks(1) ➞ 5\nblocks(2) ➞ 12\nblocks(3) ➞ 20\nblocks(4) ➞ 29\nblocks(5) ➞ 39\n",
          "output_type": "stream"
        }
      ],
      "id": "611b1550-553b-48c5-b51d-85232a269970"
    },
    {
      "cell_type": "code",
      "source": "from operator import sub\ndef my_sub(in_one,in_two):\n    output = sub(in_one,in_two) if in_one >= in_two else sub(in_two,in_one)\n    print(f'my_sub{in_one,in_two} ➞ {output}')\n    \nmy_sub(5, 9)\nmy_sub(10, 30)\nmy_sub(0, 0)",
      "metadata": {
        "trusted": true
      },
      "execution_count": 34,
      "outputs": [
        {
          "name": "stdout",
          "text": "my_sub(5, 9) ➞ 4\nmy_sub(10, 30) ➞ 20\nmy_sub(0, 0) ➞ 0\n",
          "output_type": "stream"
        }
      ],
      "id": "18c7c8b9-6717-45a4-86bb-c488ee013ef9"
    },
    {
      "cell_type": "code",
      "source": "def add_bill(in_string):\n    out_num = 0\n    for ele in in_string.split(\",\"):\n        if 'd' in ele:\n            if 'k' in ele:\n                out_num += int(ele.replace('d','').replace('k',''))*1000                \n            else:\n                out_num += int(ele.replace(\"d\",''))\n    print(f'add_bill({in_string}) ➞ {out_num}')\n    \nadd_bill(\"d20,p40,p60,d50\")\nadd_bill(\"p30,d20,p60,d150,p360\")\nadd_bill(\"p30,d2k,p60,d200,p360\")",
      "metadata": {
        "trusted": true
      },
      "execution_count": 35,
      "outputs": [
        {
          "name": "stdout",
          "text": "add_bill(d20,p40,p60,d50) ➞ 70\nadd_bill(p30,d20,p60,d150,p360) ➞ 170\nadd_bill(p30,d2k,p60,d200,p360) ➞ 2200\n",
          "output_type": "stream"
        }
      ],
      "id": "7ee8b905-536b-42bd-a889-fe6ad280701c"
    },
    {
      "cell_type": "code",
      "source": "def flip_list(in_list):\n    if len(in_list) > 0:\n        output = [ele[0] for ele in in_list] if isinstance(in_list[0],list) else [[ele] for ele in in_list]\n    else:\n        output = []\n    print(f'flip_list({in_list}) ➞ {output}')\n        \nflip_list([1,2,3,4]) \nflip_list([[5],[6],[9]])\nflip_list([])",
      "metadata": {
        "trusted": true
      },
      "execution_count": 36,
      "outputs": [
        {
          "name": "stdout",
          "text": "flip_list([1, 2, 3, 4]) ➞ [[1], [2], [3], [4]]\nflip_list([[5], [6], [9]]) ➞ [5, 6, 9]\nflip_list([]) ➞ []\n",
          "output_type": "stream"
        }
      ],
      "id": "81d60eb8-26b3-48dd-8a0d-610b23bbe113"
    }
  ]
}