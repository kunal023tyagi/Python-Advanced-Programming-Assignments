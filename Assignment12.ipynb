{
  "metadata": {
    "kernelspec": {
      "display_name": "Pyolite",
      "language": "python",
      "name": "python"
    },
    "language_info": {
      "codemirror_mode": {
        "name": "python",
        "version": 3
      },
      "file_extension": ".py",
      "mimetype": "text/x-python",
      "name": "python",
      "nbconvert_exporter": "python",
      "pygments_lexer": "ipython3",
      "version": "3.8"
    }
  },
  "nbformat_minor": 5,
  "nbformat": 4,
  "cells": [
    {
      "cell_type": "code",
      "source": "def meme_sum(a,b):\n    a,b = str(a),str(b)\n    output = ''\n    while len(a) != len(b):\n        if len(a) < len(b):\n            a ='0'+a\n        else:\n            b='0'+b\n    for ele in range(len(a)):\n        output += str(int(a[ele])+int(b[ele]))\n    print(f'meme_sum{a,b} ➞ {output}')\n       \nmeme_sum(26, 39)\nmeme_sum(122, 81)\nmeme_sum(1222, 30277) ",
      "metadata": {
        "trusted": true
      },
      "execution_count": 110,
      "outputs": [
        {
          "name": "stdout",
          "text": "meme_sum('26', '39') ➞ 515\nmeme_sum('122', '081') ➞ 1103\nmeme_sum('01222', '30277') ➞ 31499\n",
          "output_type": "stream"
        }
      ],
      "id": "0dfb4ab5-0ff1-4d85-a9da-5df20cd8def6"
    },
    {
      "cell_type": "code",
      "source": "def next_prime(in_num):\n    in_num_clone = in_num\n    while True:\n        if (in_num-1)%6 == 0 or (in_num+1)%6 ==0 :\n            temp = in_num\n            for ele in range(3,in_num+1):\n                if in_num%ele == 0 and ele != in_num:\n                    in_num = in_num+1\n                    break\n            if temp == in_num:\n                break\n        else:\n            in_num += 1\n    \n    print(f'next_prine({in_num_clone}) ➞ {in_num}')\n        \nnext_prime(12)\nnext_prime(24)\nnext_prime(11)",
      "metadata": {
        "trusted": true
      },
      "execution_count": 111,
      "outputs": [
        {
          "name": "stdout",
          "text": "next_prine(12) ➞ 13\nnext_prine(24) ➞ 29\nnext_prine(11) ➞ 11\n",
          "output_type": "stream"
        }
      ],
      "id": "cd63d8f7-4779-43f8-825f-4752dad2fff4"
    },
    {
      "cell_type": "code",
      "source": "def ave_spd(up_time,up_speed,down_speed):\n    distance = up_speed*(up_time/60)\n    down_time = distance/down_speed\n    output = (2*distance)/((up_time/60)+down_time)\n    print(f'ave_spd{up_time,up_speed,down_speed} ➞ {int(output)}')\n    \nave_spd(18, 20, 60)\nave_spd(30, 10, 30)\nave_spd(30, 8, 24)",
      "metadata": {
        "trusted": true
      },
      "execution_count": 112,
      "outputs": [
        {
          "name": "stdout",
          "text": "ave_spd(18, 20, 60) ➞ 30\nave_spd(30, 10, 30) ➞ 15\nave_spd(30, 8, 24) ➞ 12\n",
          "output_type": "stream"
        }
      ],
      "id": "8b80b36c-4bf9-4871-9825-c482bc06759c"
    },
    {
      "cell_type": "code",
      "source": "def kempner(in_num):\n    def factorial(in_num):\n        if in_num == 1:\n            return 1\n        else:\n            return in_num * factorial(in_num-1)\n    for ele in range(1,in_num+1):\n        if factorial(ele)%in_num == 0:\n            output = ele\n            break\n    print(f'kempner({in_num}) ➞ {output}')\n            \nkempner(6)\nkempner(10)\nkempner(5)\nkempner(2)",
      "metadata": {
        "trusted": true
      },
      "execution_count": 113,
      "outputs": [
        {
          "name": "stdout",
          "text": "kempner(6) ➞ 3\nkempner(10) ➞ 5\nkempner(5) ➞ 5\nkempner(2) ➞ 2\n",
          "output_type": "stream"
        }
      ],
      "id": "793fa64f-1880-4e0b-899c-6ee0bf58c2e6"
    },
    {
      "cell_type": "code",
      "source": "def boxes(in_list):\n    in_list_clone = in_list.copy()\n    output = []\n    temp_box = []\n    while True:\n        if len(in_list) != 0:\n            if sum(temp_box) <= 10:\n                temp_box.append(in_list.pop(0))\n            else:\n                in_list.insert(0,temp_box.pop())\n                output.append(temp_box)\n                temp_box = []\n        else:\n            output.append(temp_box)\n            temp_box = []\n            break\n    print(f'boxes({in_list_clone}) ➞ {output} ➞ {len(output)}')    \n    \nboxes([2, 1, 2, 5, 4, 3, 6, 1, 1, 9, 3, 2])\nboxes([5, 5, 5, 5, 5, 5, 2, 3, 4, 5, 6])",
      "metadata": {
        "trusted": true
      },
      "execution_count": 114,
      "outputs": [
        {
          "name": "stdout",
          "text": "boxes([2, 1, 2, 5, 4, 3, 6, 1, 1, 9, 3, 2]) ➞ [[2, 1, 2, 5], [4, 3], [6, 1, 1], [9], [3, 2]] ➞ 5\nboxes([5, 5, 5, 5, 5, 5, 2, 3, 4, 5, 6]) ➞ [[5, 5], [5, 5], [5, 5], [2, 3, 4], [5, 6]] ➞ 5\n",
          "output_type": "stream"
        }
      ],
      "id": "ef129c44-dac5-406e-9ef5-009499b192f7"
    }
  ]
}