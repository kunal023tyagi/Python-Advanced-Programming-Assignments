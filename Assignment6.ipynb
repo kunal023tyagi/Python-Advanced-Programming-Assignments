{
  "metadata": {
    "kernelspec": {
      "display_name": "Pyolite",
      "language": "python",
      "name": "python"
    },
    "language_info": {
      "codemirror_mode": {
        "name": "python",
        "version": 3
      },
      "file_extension": ".py",
      "mimetype": "text/x-python",
      "name": "python",
      "nbconvert_exporter": "python",
      "pygments_lexer": "ipython3",
      "version": "3.8"
    }
  },
  "nbformat_minor": 5,
  "nbformat": 4,
  "cells": [
    {
      "cell_type": "code",
      "source": "def find_the_difference(in_one,in_two):\n    in_two_temp = list(in_two)\n    for ele in in_one:\n        if ele in in_two_temp:\n            in_two_temp.pop(in_two_temp.index(ele))\n    output = ','.join(in_two_temp)\n    print(f'find_the_difference{in_one,in_two} ➞ {output}')\n\nfind_the_difference(\"abcd\", \"abcde\")\nfind_the_difference(\"\", \"y\")\nfind_the_difference(\"ae\", \"aea\")",
      "metadata": {
        "trusted": true
      },
      "execution_count": 85,
      "outputs": [
        {
          "name": "stdout",
          "text": "find_the_difference('abcd', 'abcde') ➞ e\nfind_the_difference('', 'y') ➞ y\nfind_the_difference('ae', 'aea') ➞ a\n",
          "output_type": "stream"
        }
      ],
      "id": "65cc5b9a-3346-4aa7-a0c6-e5278b9f50b1"
    },
    {
      "cell_type": "code",
      "source": "from collections import OrderedDict\ndef count_datatypes(*args):\n    output = OrderedDict({'int':0,'str':0,'bool':0,'list':0,'tuple':0,'dict':0})\n    for ele in args:\n        output[type(ele).__name__] += 1\n    print(f'count_datatypes{args}  ➞  {list(output.values())}')\n    \ncount_datatypes(1, 45, \"Hi\", False)   \ncount_datatypes([10, 20], (\"t\", \"Ok\"), 2, 3, 1)\ncount_datatypes(\"Hello\", \"Bye\", True, True, False, {\"1\": \"One\", \"2\": \"Two\"}, [1, 3], {\"Brayan\": 18}, 25, 23)\ncount_datatypes(4, 21, (\"ES\", \"EN\"), (\"a\", \"b\"), False, [1, 2, 3], [4, 5, 6])",
      "metadata": {
        "trusted": true
      },
      "execution_count": 86,
      "outputs": [
        {
          "name": "stdout",
          "text": "count_datatypes(1, 45, 'Hi', False)  ➞  [2, 1, 1, 0, 0, 0]\ncount_datatypes([10, 20], ('t', 'Ok'), 2, 3, 1)  ➞  [3, 0, 0, 1, 1, 0]\ncount_datatypes('Hello', 'Bye', True, True, False, {'1': 'One', '2': 'Two'}, [1, 3], {'Brayan': 18}, 25, 23)  ➞  [2, 2, 3, 1, 0, 2]\ncount_datatypes(4, 21, ('ES', 'EN'), ('a', 'b'), False, [1, 2, 3], [4, 5, 6])  ➞  [2, 0, 1, 2, 2, 0]\n",
          "output_type": "stream"
        }
      ],
      "id": "f8f434be-163d-491c-ad24-f9ddc93e729b"
    },
    {
      "cell_type": "code",
      "source": "# Approach 1 Using Lists\ndef fib_str_one(in_num,in_list):\n    out_list = in_list.copy()\n    if in_num > 2:\n        for ele in range(2,in_num):\n            out_list.append(out_list[-1]+out_list[-2])\n    print(f'fib_str_one{in_num, in_list} ➞ {\", \".join(out_list)}')\n\n# Approach 2 Without Using Lists\ndef fib_str_two(in_num,in_list):\n    back_one, back_two = in_list[-1],in_list[-2]\n    output=\", \".join(in_list)\n    if in_num > 2:\n        for ele in range(2,in_num):\n            temp = back_one+back_two\n            output += \", \"+temp\n            back_one = back_two\n            back_two = temp\n    print(f'fib_str_two{in_num, in_list} ➞ {output}')\n    \nfib_str_one(3, [\"j\", \"h\"]) \nfib_str_one(5, [\"e\", \"a\"])\nfib_str_one(6, [\"n\", \"k\"])\nprint()\nfib_str_two(3, [\"j\", \"h\"]) \nfib_str_two(5, [\"e\", \"a\"])\nfib_str_two(6, [\"n\", \"k\"])",
      "metadata": {
        "trusted": true
      },
      "execution_count": 87,
      "outputs": [
        {
          "name": "stdout",
          "text": "fib_str_one(3, ['j', 'h']) ➞ j, h, hj\nfib_str_one(5, ['e', 'a']) ➞ e, a, ae, aea, aeaae\nfib_str_one(6, ['n', 'k']) ➞ n, k, kn, knk, knkkn, knkknknk\n\nfib_str_two(3, ['j', 'h']) ➞ j, h, hj\nfib_str_two(5, ['e', 'a']) ➞ e, a, ae, eae, aeeae\nfib_str_two(6, ['n', 'k']) ➞ n, k, kn, nkn, knnkn, nknknnkn\n",
          "output_type": "stream"
        }
      ],
      "id": "98da2669-f132-47e8-924e-1d0e4d00f741"
    },
    {
      "cell_type": "code",
      "source": "def ones_threes_nines(in_num):\n    in_num_clone = in_num\n    answer = {'nines':0,'threes':0,'ones':0}\n    if in_num > 0 and in_num < 26:\n        while in_num != 0:\n            if in_num >= 9:\n                in_num -= 9\n                answer['nines'] += 1\n            elif in_num >= 3:\n                in_num -= 3\n                answer['threes'] += 1\n            elif in_num >= 1:\n                in_num -=1\n                answer['ones'] +=1\n    print(f\"ones_threes_nines({in_num_clone}) ➞ \\\"nines:{answer['nines']}, threes:{answer['threes']}, ones:{answer['ones']}\\\"\")\n    \nones_threes_nines(10) \nones_threes_nines(15)\nones_threes_nines(22)",
      "metadata": {
        "trusted": true
      },
      "execution_count": 88,
      "outputs": [
        {
          "name": "stdout",
          "text": "ones_threes_nines(10) ➞ \"nines:1, threes:0, ones:1\"\nones_threes_nines(15) ➞ \"nines:1, threes:2, ones:0\"\nones_threes_nines(22) ➞ \"nines:2, threes:1, ones:1\"\n",
          "output_type": "stream"
        }
      ],
      "id": "68bc5164-fde2-4062-b3fc-c9d08b181dfe"
    },
    {
      "cell_type": "code",
      "source": "# Approach 1\ndef fib_one(in_num):\n    if in_num < 1:\n        print(\"Minimum two digits are required to generate a fibonacci sequence\")\n    else:\n        output = [0,1]\n        for ele in range(2,in_num+1):\n            output.append(output[-1]+output[-2])\n        print(f'fib_one({in_num}) ➞ {output[-1]}')\n\n# Approach 2\ndef fib_two(in_num):\n    back_one,back_two = 1,0\n    for ele in range(2,in_num+1):\n        temp = back_one+back_two\n        back_two = back_one\n        back_one = temp\n    print(f'fib_two({in_num}) ➞ {back_one}')\n\nfib_one(6)\nfib_one(1)\nfib_one(2)\nprint()\nfib_two(6)\nfib_two(1)\nfib_two(2)",
      "metadata": {
        "trusted": true
      },
      "execution_count": 89,
      "outputs": [
        {
          "name": "stdout",
          "text": "fib_one(6) ➞ 8\nfib_one(1) ➞ 1\nfib_one(2) ➞ 1\n\nfib_two(6) ➞ 8\nfib_two(1) ➞ 1\nfib_two(2) ➞ 1\n",
          "output_type": "stream"
        }
      ],
      "id": "1f4b70e7-220b-4ee9-83f7-329d05936816"
    }
  ]
}