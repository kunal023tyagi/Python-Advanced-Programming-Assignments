{
  "metadata": {
    "kernelspec": {
      "display_name": "Pyolite",
      "language": "python",
      "name": "python"
    },
    "language_info": {
      "codemirror_mode": {
        "name": "python",
        "version": 3
      },
      "file_extension": ".py",
      "mimetype": "text/x-python",
      "name": "python",
      "nbconvert_exporter": "python",
      "pygments_lexer": "ipython3",
      "version": "3.8"
    }
  },
  "nbformat_minor": 5,
  "nbformat": 4,
  "cells": [
    {
      "cell_type": "code",
      "source": "def filter_primes(in_list):\n    out_list = []\n    for ele in in_list:\n        if ele in [2,3]:\n            out_list.append(ele)\n        elif ((ele+1)%6 == 0) or ((ele-1)%6 == 0) and ele != 1:\n            out_list.append(ele)\n    temp = out_list.copy()\n    for ele in temp:\n        for num in range(2,ele):\n            if ele%num == 0:\n                out_list.remove(ele)\n                break        \n    print(f'filter_primes({in_list}) ➞ {out_list}')\n    \nfilter_primes([7, 9, 3, 9, 10, 11, 27])\nfilter_primes([10007, 1009, 1007, 27, 147, 77, 1001, 70])\nfilter_primes([1009, 10, 10, 10, 3, 33, 9, 4, 1, 61, 63, 69, 1087, 1091, 1093, 1097])",
      "metadata": {
        "trusted": true
      },
      "execution_count": 105,
      "outputs": [
        {
          "name": "stdout",
          "text": "filter_primes([7, 9, 3, 9, 10, 11, 27]) ➞ [7, 3, 11]\nfilter_primes([10007, 1009, 1007, 27, 147, 77, 1001, 70]) ➞ [10007, 1009]\nfilter_primes([1009, 10, 10, 10, 3, 33, 9, 4, 1, 61, 63, 69, 1087, 1091, 1093, 1097]) ➞ [1009, 3, 61, 1087, 1091, 1093, 1097]\n",
          "output_type": "stream"
        }
      ],
      "id": "b0493c3c-d3a9-4683-85d0-a5311493255d"
    },
    {
      "cell_type": "code",
      "source": "def pop(in_list):\n    pop_number = sorted(in_list,reverse=True)[0]\n    output = []\n    if pop_number == 0:\n        output.append(0)\n    else:\n        output.extend([x for x in range((len(in_list)-1)//2)])\n        output.append(pop_number)\n        output.extend([((len(in_list)-2)//2)-x for x in range((len(in_list)-1)//2)])\n    print(f'pop({in_list}) ➞ {output}')\n    \npop([0, 0, 0, 0, 4, 0, 0, 0, 0])\npop([0, 0, 0, 3, 0, 0, 0])\npop([0, 0, 2, 0, 0])\npop([0])",
      "metadata": {
        "trusted": true
      },
      "execution_count": 106,
      "outputs": [
        {
          "name": "stdout",
          "text": "pop([0, 0, 0, 0, 4, 0, 0, 0, 0]) ➞ [0, 1, 2, 3, 4, 3, 2, 1, 0]\npop([0, 0, 0, 3, 0, 0, 0]) ➞ [0, 1, 2, 3, 2, 1, 0]\npop([0, 0, 2, 0, 0]) ➞ [0, 1, 2, 1, 0]\npop([0]) ➞ [0]\n",
          "output_type": "stream"
        }
      ],
      "id": "5e4b7b4a-feb3-474f-8084-e135583094f6"
    },
    {
      "cell_type": "code",
      "source": "    out_string = []\n    for ele in range(in_num):\n        if ele%2 ==0:\n            out_string.append('Loves me')\n        else:\n            out_string.append('Loves me not')\n    out_string[-1] = out_string[-1].upper()\n    print(f'loves_me({in_num}) ➞ {\", \".join(out_string)}')\n    \nloves_me(3)\nloves_me(6)\nloves_me(1)",
      "metadata": {
        "trusted": true
      },
      "execution_count": 107,
      "outputs": [
        {
          "name": "stdout",
          "text": "Unexpected exception formatting exception. Falling back to standard exception\n",
          "output_type": "stream"
        },
        {
          "name": "stderr",
          "text": "Traceback (most recent call last):\n  File \"/lib/python3.9/site-packages/IPython/core/interactiveshell.py\", line 3369, in run_code\n    exec(code_obj, self.user_global_ns, self.user_ns)\n  File \"<ipython-input-107-7dde1c1e4702>\", line 2, in <cell line: 2>\n    for ele in range(in_num):\nNameError: name 'in_num' is not defined\n\nDuring handling of the above exception, another exception occurred:\n\nTraceback (most recent call last):\n  File \"/lib/python3.9/site-packages/IPython/core/interactiveshell.py\", line 1982, in showtraceback\n    stb = self.InteractiveTB.structured_traceback(\n  File \"/lib/python3.9/site-packages/IPython/core/ultratb.py\", line 1118, in structured_traceback\n    return FormattedTB.structured_traceback(\n  File \"/lib/python3.9/site-packages/IPython/core/ultratb.py\", line 1012, in structured_traceback\n    return VerboseTB.structured_traceback(\n  File \"/lib/python3.9/site-packages/IPython/core/ultratb.py\", line 865, in structured_traceback\n    formatted_exception = self.format_exception_as_a_whole(etype, evalue, etb, number_of_lines_of_context,\n  File \"/lib/python3.9/site-packages/IPython/core/ultratb.py\", line 799, in format_exception_as_a_whole\n    self.get_records(etb, number_of_lines_of_context, tb_offset) if etb else []\n  File \"/lib/python3.9/site-packages/IPython/core/ultratb.py\", line 846, in get_records\n    formatter = Terminal256Formatter(style=style)\n  File \"/lib/python3.9/site-packages/pygments/formatters/terminal256.py\", line 149, in __init__\n    self._setup_styles()  # convert selected style's colors to term. colors\n  File \"/lib/python3.9/site-packages/pygments/formatters/terminal256.py\", line 244, in _setup_styles\n    self.style_string[str(ttype)] = (escape.color_string(),\n  File \"/lib/python3.9/site-packages/pygments/token.py\", line 44, in __repr__\n    return 'Token' + (self and '.' or '') + '.'.join(self)\nTypeError: __length_hint__ must be an integer, not \n",
          "output_type": "stream"
        }
      ],
      "id": "d6e97a0a-7515-4e73-9c88-a5cf92e56b0f"
    },
    {
      "cell_type": "code",
      "source": "def sort_by_letter(in_list):\n    temp_list = []\n    output = []\n    for ele in in_list:\n        for char in ele:\n            if char.isalpha():\n                temp_list.append(char)\n    temp_list.sort()\n    for char in temp_list:\n        for ele in in_list:\n            if char in ele:\n                output.append(ele)\n    \n    print(f'sort_by_letter({in_list}) ➞ {output}')\n                \nsort_by_letter([\"932c\", \"832u32\", \"2344b\"])\nsort_by_letter([\"99a\", \"78b\", \"c2345\", \"11d\"])\nsort_by_letter([\"572z\", \"5y5\", \"304q2\"])\nsort_by_letter([])",
      "metadata": {
        "trusted": true
      },
      "execution_count": 108,
      "outputs": [
        {
          "name": "stdout",
          "text": "sort_by_letter(['932c', '832u32', '2344b']) ➞ ['2344b', '932c', '832u32']\nsort_by_letter(['99a', '78b', 'c2345', '11d']) ➞ ['99a', '78b', 'c2345', '11d']\nsort_by_letter(['572z', '5y5', '304q2']) ➞ ['304q2', '5y5', '572z']\nsort_by_letter([]) ➞ []\n",
          "output_type": "stream"
        }
      ],
      "id": "648d552b-1b3f-4ab6-91f8-f6c061c59a2a"
    },
    {
      "cell_type": "code",
      "source": "def cup_swapping(swap_list,intitial_ball_pos):\n    ball_position = intitial_ball_pos\n    for ele in swap_list:\n        if ball_position in ele:\n            ball_position = ele.replace(ball_position,'')\n    print(f'cup_swapping({swap_list}) ➞ {ball_position}')\n            \ncup_swapping([\"AB\", \"CA\", \"AB\"],'B')\ncup_swapping([\"AB\", \"CA\", \"AB\"],'C')\ncup_swapping([\"AC\", \"BC\", \"AB\"],'A')",
      "metadata": {
        "trusted": true
      },
      "execution_count": 109,
      "outputs": [
        {
          "name": "stdout",
          "text": "cup_swapping(['AB', 'CA', 'AB']) ➞ C\ncup_swapping(['AB', 'CA', 'AB']) ➞ B\ncup_swapping(['AC', 'BC', 'AB']) ➞ A\n",
          "output_type": "stream"
        }
      ],
      "id": "06e58bd6-9778-4ab0-bbf6-0ad49323d08b"
    }
  ]
}