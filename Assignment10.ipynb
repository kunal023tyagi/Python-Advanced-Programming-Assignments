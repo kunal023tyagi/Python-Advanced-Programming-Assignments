{
  "metadata": {
    "kernelspec": {
      "display_name": "Pyolite",
      "language": "python",
      "name": "python"
    },
    "language_info": {
      "codemirror_mode": {
        "name": "python",
        "version": 3
      },
      "file_extension": ".py",
      "mimetype": "text/x-python",
      "name": "python",
      "nbconvert_exporter": "python",
      "pygments_lexer": "ipython3",
      "version": "3.8"
    }
  },
  "nbformat_minor": 5,
  "nbformat": 4,
  "cells": [
    {
      "cell_type": "code",
      "source": "def get_frame(in_width,in_height,in_character):\n    if in_width <= 2:\n        print(\"Invalid\")\n    else:\n        out_list = []\n        for height in range(in_height):\n            if height == 0 or height == in_height-1:\n                out_list.append([in_width*in_character])\n            else:\n                out_list.append([in_character+' '*(in_width-2)+in_character])\n        for ele in out_list:\n            print(ele)\n        print()\n    \nget_frame(4, 5, \"#\")\nget_frame(10, 3, \"*\")\nget_frame(2, 5, \"0\")",
      "metadata": {
        "trusted": true
      },
      "execution_count": 100,
      "outputs": [
        {
          "name": "stdout",
          "text": "['####']\n['#  #']\n['#  #']\n['#  #']\n['####']\n\n['**********']\n['*        *']\n['**********']\n\nInvalid\n",
          "output_type": "stream"
        }
      ],
      "id": "2e61acc1-346d-45f9-b21a-e56c8da6a00f"
    },
    {
      "cell_type": "code",
      "source": "def boolean_and(in_list):\n    in_list_clone = in_list.copy()\n    while len(in_list) != 1:\n        x = in_list.pop(0)\n        y = in_list.pop(0)\n        in_list.insert(0,(x and y))\n    print(f'boolean_and({in_list_clone}) ➞ {in_list[0]}')\n    \ndef boolean_or(in_list):\n    in_list_clone = in_list.copy()\n    while len(in_list) != 1:\n        x = in_list.pop(0)\n        y = in_list.pop(0)\n        in_list.insert(0,(x or y))\n    print(f'boolean_or({in_list_clone}) ➞ {in_list[0]}')\n    \ndef boolean_xor(in_list):\n    in_list_clone = in_list.copy()\n    while len(in_list) != 1:\n        x = in_list.pop(0)\n        y = in_list.pop(0)\n        in_list.insert(0,(x ^ y))\n    print(f'boolean_xor({in_list_clone}) ➞ {in_list[0]}')\n    \nboolean_and([True, True, False, True])\nboolean_or([True, True, False, False])\nboolean_xor([True, True, False, False])",
      "metadata": {
        "trusted": true
      },
      "execution_count": 101,
      "outputs": [
        {
          "name": "stdout",
          "text": "boolean_and([True, True, False, True]) ➞ False\nboolean_or([True, True, False, False]) ➞ True\nboolean_xor([True, True, False, False]) ➞ False\n",
          "output_type": "stream"
        }
      ],
      "id": "ca4b6939-5dc0-41e4-8ce5-f8469440468b"
    },
    {
      "cell_type": "code",
      "source": "def make_box(in_dimension):\n    out_list = []\n    for ele in range(in_dimension):\n        if ele == 0 or ele == in_dimension-1:\n            out_list.append('#'*in_dimension)\n        else:\n            out_list.append('#'+' '*(in_dimension-2)+'#')\n    for ele in out_list:\n        print(ele)\n    print()\n    \nmake_box(5)   \nmake_box(2)\nmake_box(1)",
      "metadata": {
        "trusted": true
      },
      "execution_count": 102,
      "outputs": [
        {
          "name": "stdout",
          "text": "#####\n#   #\n#   #\n#   #\n#####\n\n##\n##\n\n#\n\n",
          "output_type": "stream"
        }
      ],
      "id": "cb694bef-37e7-4763-ba83-7b100e2c3c41"
    },
    {
      "cell_type": "code",
      "source": "def no_duplicate_letters(in_string):\n    out_put = None\n    for ele in in_string.split(' '):\n        if len(ele) == len(set(ele)):\n            out_put = True\n        else:\n            out_put = False\n            break\n    print(f'no_duplicate_letters({in_string}) ➞ {out_put}')\n    \nno_duplicate_letters(\"Fortune favours the bold.\")\nno_duplicate_letters(\"You can lead a horse to water, but you can't make him drink.\")\nno_duplicate_letters(\"Look before you leap.\")\nno_duplicate_letters(\"An apple a day keeps the doctor away.\")",
      "metadata": {
        "trusted": true
      },
      "execution_count": 103,
      "outputs": [
        {
          "name": "stdout",
          "text": "no_duplicate_letters(Fortune favours the bold.) ➞ True\nno_duplicate_letters(You can lead a horse to water, but you can't make him drink.) ➞ True\nno_duplicate_letters(Look before you leap.) ➞ False\nno_duplicate_letters(An apple a day keeps the doctor away.) ➞ False\n",
          "output_type": "stream"
        }
      ],
      "id": "48ac0d02-5871-4ac9-bb7b-d5bcee29a47d"
    },
    {
      "cell_type": "code",
      "source": "import re\ntxt = \"Texas = no, California = yes, Florida = yes, Michigan = no\"\npattern = r'\\w+(?=\\s=\\syes*)'\nmatch = re.findall(pattern,txt)\nprint(f're.findall{pattern,txt} ➞ {match}')",
      "metadata": {
        "trusted": true
      },
      "execution_count": 104,
      "outputs": [
        {
          "name": "stdout",
          "text": "re.findall('\\\\w+(?=\\\\s=\\\\syes*)', 'Texas = no, California = yes, Florida = yes, Michigan = no') ➞ ['California', 'Florida']\n",
          "output_type": "stream"
        }
      ],
      "id": "7072e2b9-a8d5-4f28-8969-7e5bc4525965"
    }
  ]
}